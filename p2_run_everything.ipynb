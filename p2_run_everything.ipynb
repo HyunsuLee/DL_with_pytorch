{
 "cells": [
  {
   "cell_type": "code",
   "execution_count": 1,
   "metadata": {},
   "outputs": [],
   "source": [
    "import datetime\n",
    "\n",
    "from util.util import importstr\n",
    "from util.logconf import logging\n",
    "log = logging.getLogger('nb')"
   ]
  },
  {
   "cell_type": "code",
   "execution_count": 2,
   "metadata": {},
   "outputs": [],
   "source": [
    "def run(app, *argv):\n",
    "    argv = list(argv)\n",
    "    argv.insert(0, '--num-workers=4')  # <1>\n",
    "    log.info(\"Running: {}({!r}).main()\".format(app, argv))\n",
    "    \n",
    "    app_cls = importstr(*app.rsplit('.', 1))  # <2>\n",
    "    app_cls(argv).main()\n",
    "    \n",
    "    log.info(\"Finished: {}.{!r}).main()\".format(app, argv))"
   ]
  },
  {
   "cell_type": "code",
   "execution_count": 3,
   "metadata": {},
   "outputs": [],
   "source": [
    "import os\n",
    "import shutil\n",
    "\n",
    "# clean up any old data that might be around.\n",
    "# We don't call this by default because it's destructive, \n",
    "# and would waste a lot of time if it ran when nothing \n",
    "# on the application side had changed.\n",
    "def cleanCache():\n",
    "    shutil.rmtree('data-unversioned/cache')\n",
    "    os.mkdir('data-unversioned/cache')\n",
    "\n",
    "# cleanCache()"
   ]
  },
  {
   "cell_type": "code",
   "execution_count": 4,
   "metadata": {},
   "outputs": [],
   "source": [
    "training_epochs = 20\n",
    "experiment_epochs = 10\n",
    "final_epochs = 50\n",
    "\n",
    "training_epochs = 2\n",
    "experiment_epochs = 2\n",
    "final_epochs = 5\n",
    "seg_epochs = 10"
   ]
  },
  {
   "cell_type": "markdown",
   "metadata": {},
   "source": [
    "## Chapter 11"
   ]
  },
  {
   "cell_type": "code",
   "execution_count": 5,
   "metadata": {},
   "outputs": [],
   "source": [
    "#run('p2ch11.prepcache.LunaPrepCacheApp')"
   ]
  },
  {
   "cell_type": "code",
   "execution_count": 6,
   "metadata": {},
   "outputs": [],
   "source": [
    "#run('p2ch11.training.LunaTrainingApp', '--epochs=1')"
   ]
  },
  {
   "cell_type": "code",
   "execution_count": 7,
   "metadata": {},
   "outputs": [],
   "source": [
    "#run('p2ch11.training.LunaTrainingApp', f'--epochs={experiment_epochs}')"
   ]
  },
  {
   "cell_type": "markdown",
   "metadata": {},
   "source": [
    "## Chapter 12"
   ]
  },
  {
   "cell_type": "code",
   "execution_count": 8,
   "metadata": {},
   "outputs": [
    {
     "name": "stderr",
     "output_type": "stream",
     "text": [
      "2022-08-31 09:21:34,316 INFO     pid:487878 nb:004:run Running: p2ch12.prepcache.LunaPrepCacheApp(['--num-workers=4']).main()\n",
      "2022-08-31 09:21:39,148 INFO     pid:487878 p2ch12.prepcache:043:main Starting LunaPrepCacheApp, Namespace(batch_size=1024, num_workers=4)\n",
      "2022-08-31 09:21:45,637 INFO     pid:487878 p2ch12.dsets:267:__init__ <p2ch12.dsets.LunaDataset object at 0x7fb92860d100>: 551065 training samples, 549714 neg, 1351 pos, unbalanced ratio\n",
      "2022-08-31 09:21:45,638 WARNING  pid:487878 util.util:219:enumerateWithEstimate Stuffing cache ----/539, starting\n",
      "2022-08-31 09:22:52,397 INFO     pid:487878 util.util:236:enumerateWithEstimate Stuffing cache   16/539, done at 2022-08-31 09:58:01, 0:36:01\n",
      "2022-08-31 09:30:24,690 INFO     pid:487878 util.util:236:enumerateWithEstimate Stuffing cache   64/539, done at 2022-08-31 10:35:47, 1:13:47\n",
      "MetaImage: M_ReadElementsData: data not read completely\n",
      "   ideal = 66584576 : actual = 1048576\n",
      "2022-08-31 10:10:21,277 INFO     pid:487878 util.util:236:enumerateWithEstimate Stuffing cache  256/539, done at 2022-08-31 11:04:15, 1:42:15\n",
      "2022-08-31 11:28:24,175 WARNING  pid:487878 util.util:249:enumerateWithEstimate Stuffing cache ----/539, done at 2022-08-31 11:28:24\n",
      "2022-08-31 11:28:24,210 INFO     pid:487878 nb:009:run Finished: p2ch12.prepcache.LunaPrepCacheApp.['--num-workers=4']).main()\n"
     ]
    }
   ],
   "source": [
    "run('p2ch12.prepcache.LunaPrepCacheApp')"
   ]
  },
  {
   "cell_type": "code",
   "execution_count": 10,
   "metadata": {},
   "outputs": [
    {
     "name": "stderr",
     "output_type": "stream",
     "text": [
      "2022-08-31 11:48:32,144 INFO     pid:487878 nb:004:run Running: p2ch12.training.LunaTrainingApp(['--num-workers=4', '--epochs=1', '--batch-size=512', 'unbalanced']).main()\n",
      "2022-08-31 11:48:32,159 INFO     pid:487878 p2ch12.training:127:initModel Using CUDA; 4 devices.\n",
      "2022-08-31 11:48:32,181 INFO     pid:487878 p2ch12.training:188:main Starting LunaTrainingApp, Namespace(augment_flip=False, augment_noise=False, augment_offset=False, augment_rotate=False, augment_scale=False, augmented=False, balanced=False, batch_size=512, comment='unbalanced', epochs=1, num_workers=4, tb_prefix='p2ch12')\n",
      "2022-08-31 11:48:33,017 INFO     pid:487878 p2ch12.dsets:267:__init__ <p2ch12.dsets.LunaDataset object at 0x7fb88540f4f0>: 495958 training samples, 494743 neg, 1215 pos, unbalanced ratio\n",
      "2022-08-31 11:48:33,120 INFO     pid:487878 p2ch12.dsets:267:__init__ <p2ch12.dsets.LunaDataset object at 0x7fb92827efd0>: 55107 validation samples, 54971 neg, 136 pos, unbalanced ratio\n",
      "2022-08-31 11:48:33,121 INFO     pid:487878 p2ch12.training:195:main Epoch 1 of 1, 243/27 batches of size 512*4\n",
      "2022-08-31 11:48:33,122 WARNING  pid:487878 util.util:219:enumerateWithEstimate E1 Training ----/243, starting\n",
      "2022-08-31 12:00:43,797 INFO     pid:487878 util.util:236:enumerateWithEstimate E1 Training   16/243, done at 2022-08-31 14:54:05, 3:03:19\n",
      "2022-08-31 12:33:15,831 INFO     pid:487878 util.util:236:enumerateWithEstimate E1 Training   64/243, done at 2022-08-31 14:37:17, 2:46:32\n",
      "2022-08-31 14:56:34,809 WARNING  pid:487878 util.util:249:enumerateWithEstimate E1 Training ----/243, done at 2022-08-31 14:56:34\n",
      "2022-08-31 14:56:37,514 INFO     pid:487878 p2ch12.training:304:logMetrics E1 LunaTrainingApp\n",
      "/home/media/data1/DataAnalysis/GitHub_Active/DL_with_pytorch/p2ch12/training.py:339: RuntimeWarning: invalid value encountered in double_scalars\n",
      "  2 * (precision * recall) / (precision + recall)\n",
      "2022-08-31 14:56:37,544 INFO     pid:487878 p2ch12.training:341:logMetrics E1 trn      0.0296 loss,  99.7% correct, 0.0000 precision, 0.0000 recall, nan f1 score\n",
      "2022-08-31 14:56:37,545 INFO     pid:487878 p2ch12.training:353:logMetrics E1 trn_neg  0.0037 loss, 100.0% correct (494687 of 494743)\n",
      "2022-08-31 14:56:37,545 INFO     pid:487878 p2ch12.training:364:logMetrics E1 trn_pos  10.5697 loss,   0.0% correct (0 of 1215)\n",
      "2022-08-31 14:56:37,612 WARNING  pid:487878 util.util:219:enumerateWithEstimate E1 Validation  ----/27, starting\n",
      "2022-08-31 15:06:57,016 INFO     pid:487878 util.util:236:enumerateWithEstimate E1 Validation     8/27, done at 2022-08-31 15:31:04, 0:30:49\n",
      "2022-08-31 15:14:10,908 INFO     pid:487878 util.util:236:enumerateWithEstimate E1 Validation    16/27, done at 2022-08-31 15:24:53, 0:24:38\n",
      "2022-08-31 15:20:49,985 WARNING  pid:487878 util.util:249:enumerateWithEstimate E1 Validation  ----/27, done at 2022-08-31 15:20:49\n",
      "2022-08-31 15:20:50,662 INFO     pid:487878 p2ch12.training:304:logMetrics E1 LunaTrainingApp\n",
      "/home/media/data1/DataAnalysis/GitHub_Active/DL_with_pytorch/p2ch12/training.py:334: RuntimeWarning: invalid value encountered in divide\n",
      "  truePos_count / np.float32(truePos_count + falsePos_count)\n",
      "2022-08-31 15:20:50,666 INFO     pid:487878 p2ch12.training:341:logMetrics E1 val      0.0175 loss,  99.8% correct, nan precision, 0.0000 recall, nan f1 score\n",
      "2022-08-31 15:20:50,667 INFO     pid:487878 p2ch12.training:353:logMetrics E1 val_neg  0.0038 loss, 100.0% correct (54971 of 54971)\n",
      "2022-08-31 15:20:50,668 INFO     pid:487878 p2ch12.training:364:logMetrics E1 val_pos  5.5805 loss,   0.0% correct (0 of 136)\n",
      "2022-08-31 15:20:50,748 INFO     pid:487878 nb:009:run Finished: p2ch12.training.LunaTrainingApp.['--num-workers=4', '--epochs=1', '--batch-size=512', 'unbalanced']).main()\n"
     ]
    }
   ],
   "source": [
    "run('p2ch12.training.LunaTrainingApp', '--epochs=1', '--batch-size=512', 'unbalanced')"
   ]
  },
  {
   "cell_type": "code",
   "execution_count": null,
   "metadata": {},
   "outputs": [],
   "source": [
    "run('p2ch12.training.LunaTrainingApp', f'--epochs={training_epochs}', '--balanced', 'balanced')"
   ]
  },
  {
   "cell_type": "code",
   "execution_count": null,
   "metadata": {},
   "outputs": [],
   "source": [
    "run('p2ch12.training.LunaTrainingApp', f'--epochs={experiment_epochs}', '--balanced', '--augment-flip', 'flip')"
   ]
  },
  {
   "cell_type": "code",
   "execution_count": null,
   "metadata": {},
   "outputs": [],
   "source": [
    "run('p2ch12.training.LunaTrainingApp', f'--epochs={experiment_epochs}', '--balanced', '--augment-offset', 'offset')"
   ]
  },
  {
   "cell_type": "code",
   "execution_count": null,
   "metadata": {},
   "outputs": [],
   "source": [
    "run('p2ch12.training.LunaTrainingApp', f'--epochs={experiment_epochs}', '--balanced', '--augment-scale', 'scale')"
   ]
  },
  {
   "cell_type": "code",
   "execution_count": null,
   "metadata": {},
   "outputs": [],
   "source": [
    "run('p2ch12.training.LunaTrainingApp', f'--epochs={experiment_epochs}', '--balanced', '--augment-rotate', 'rotate')"
   ]
  },
  {
   "cell_type": "code",
   "execution_count": null,
   "metadata": {},
   "outputs": [],
   "source": [
    "run('p2ch12.training.LunaTrainingApp', f'--epochs={experiment_epochs}', '--balanced', '--augment-noise', 'noise')"
   ]
  },
  {
   "cell_type": "code",
   "execution_count": null,
   "metadata": {},
   "outputs": [],
   "source": [
    "run('p2ch12.training.LunaTrainingApp', f'--epochs={training_epochs}', '--balanced', '--augmented', 'fully-augmented')"
   ]
  },
  {
   "cell_type": "markdown",
   "metadata": {},
   "source": [
    "## Chapter 13"
   ]
  },
  {
   "cell_type": "code",
   "execution_count": null,
   "metadata": {},
   "outputs": [],
   "source": [
    "run('p2ch13.prepcache.LunaPrepCacheApp')"
   ]
  },
  {
   "cell_type": "code",
   "execution_count": null,
   "metadata": {},
   "outputs": [],
   "source": [
    "run('p2ch13.training.LunaTrainingApp', f'--epochs={final_epochs}', '--balanced', '--augmented', 'final-cls')"
   ]
  },
  {
   "cell_type": "code",
   "execution_count": null,
   "metadata": {
    "scrolled": true
   },
   "outputs": [],
   "source": [
    "run('p2ch13.train_seg.LunaTrainingApp', f'--epochs={seg_epochs}', '--augmented', 'final-seg')"
   ]
  },
  {
   "cell_type": "markdown",
   "metadata": {},
   "source": [
    "## Chapter 14"
   ]
  },
  {
   "cell_type": "code",
   "execution_count": null,
   "metadata": {},
   "outputs": [],
   "source": [
    "run('p2ch14.prepcache.LunaPrepCacheApp')"
   ]
  },
  {
   "cell_type": "code",
   "execution_count": null,
   "metadata": {
    "scrolled": true
   },
   "outputs": [],
   "source": [
    "run('p2ch14.training.ClassificationTrainingApp', f'--epochs=100', 'nodule-nonnodule')"
   ]
  },
  {
   "cell_type": "code",
   "execution_count": null,
   "metadata": {
    "scrolled": false
   },
   "outputs": [],
   "source": [
    "run('p2ch14.training.ClassificationTrainingApp', f'--epochs=40', '--malignant', '--dataset=MalignantLunaDataset',\n",
    "    '--finetune=''data/part2/models/cls_2020-02-06_14.16.55_final-nodule-nonnodule.best.state',\n",
    "    'finetune-head')\n"
   ]
  },
  {
   "cell_type": "code",
   "execution_count": null,
   "metadata": {
    "scrolled": false
   },
   "outputs": [],
   "source": [
    "run('p2ch14.training.ClassificationTrainingApp', f'--epochs=40', '--malignant', '--dataset=MalignantLunaDataset',\n",
    "    '--finetune=''data/part2/models/cls_2020-02-06_14.16.55_final-nodule-nonnodule.best.state',\n",
    "    '--finetune-depth=2',\n",
    "    'finetune-depth2')\n"
   ]
  },
  {
   "cell_type": "code",
   "execution_count": null,
   "metadata": {},
   "outputs": [],
   "source": [
    "run('p2ch14.nodule_analysis.NoduleAnalysisApp', '--run-validation')"
   ]
  },
  {
   "cell_type": "code",
   "execution_count": null,
   "metadata": {},
   "outputs": [],
   "source": [
    "run('p2ch14.nodule_analysis.NoduleAnalysisApp', '--run-validation', '--malignancy-path')"
   ]
  },
  {
   "cell_type": "code",
   "execution_count": null,
   "metadata": {},
   "outputs": [],
   "source": []
  },
  {
   "cell_type": "code",
   "execution_count": null,
   "metadata": {},
   "outputs": [],
   "source": []
  }
 ],
 "metadata": {
  "kernelspec": {
   "display_name": "Python 3.8.13 ('th1p12')",
   "language": "python",
   "name": "python3"
  },
  "language_info": {
   "codemirror_mode": {
    "name": "ipython",
    "version": 3
   },
   "file_extension": ".py",
   "mimetype": "text/x-python",
   "name": "python",
   "nbconvert_exporter": "python",
   "pygments_lexer": "ipython3",
   "version": "3.8.13"
  },
  "vscode": {
   "interpreter": {
    "hash": "4c5fa1e0871d08a1c3464c030a8ba0f2e416a0fd3ff5bd2c75d5d2c52be85c3d"
   }
  }
 },
 "nbformat": 4,
 "nbformat_minor": 2
}
