{
 "cells": [
  {
   "cell_type": "code",
   "execution_count": 1,
   "metadata": {},
   "outputs": [],
   "source": [
    "import datetime\n",
    "\n",
    "from util.util import importstr\n",
    "from util.logconf import logging\n",
    "log = logging.getLogger('nb')"
   ]
  },
  {
   "cell_type": "code",
   "execution_count": 2,
   "metadata": {},
   "outputs": [],
   "source": [
    "def run(app, *argv):\n",
    "    argv = list(argv)\n",
    "    argv.insert(0, '--num-workers=4')  # <1>\n",
    "    log.info(\"Running: {}({!r}).main()\".format(app, argv))\n",
    "    \n",
    "    app_cls = importstr(*app.rsplit('.', 1))  # <2>\n",
    "    app_cls(argv).main()\n",
    "    \n",
    "    log.info(\"Finished: {}.{!r}).main()\".format(app, argv))"
   ]
  },
  {
   "cell_type": "code",
   "execution_count": 3,
   "metadata": {},
   "outputs": [],
   "source": [
    "import os\n",
    "import shutil\n",
    "\n",
    "# clean up any old data that might be around.\n",
    "# We don't call this by default because it's destructive, \n",
    "# and would waste a lot of time if it ran when nothing \n",
    "# on the application side had changed.\n",
    "def cleanCache():\n",
    "    shutil.rmtree('data-unversioned/cache')\n",
    "    os.mkdir('data-unversioned/cache')\n",
    "\n",
    "# cleanCache()"
   ]
  },
  {
   "cell_type": "code",
   "execution_count": 4,
   "metadata": {},
   "outputs": [],
   "source": [
    "training_epochs = 20\n",
    "experiment_epochs = 10\n",
    "final_epochs = 50\n",
    "\n",
    "training_epochs = 2\n",
    "experiment_epochs = 2\n",
    "final_epochs = 5\n",
    "seg_epochs = 10"
   ]
  },
  {
   "cell_type": "markdown",
   "metadata": {},
   "source": [
    "## Chapter 11"
   ]
  },
  {
   "cell_type": "code",
   "execution_count": 5,
   "metadata": {},
   "outputs": [],
   "source": [
    "#run('p2ch11.prepcache.LunaPrepCacheApp')"
   ]
  },
  {
   "cell_type": "code",
   "execution_count": 6,
   "metadata": {},
   "outputs": [],
   "source": [
    "#run('p2ch11.training.LunaTrainingApp', '--epochs=1')"
   ]
  },
  {
   "cell_type": "code",
   "execution_count": 7,
   "metadata": {},
   "outputs": [],
   "source": [
    "#run('p2ch11.training.LunaTrainingApp', f'--epochs={experiment_epochs}')"
   ]
  },
  {
   "cell_type": "markdown",
   "metadata": {},
   "source": [
    "## Chapter 12"
   ]
  },
  {
   "cell_type": "code",
   "execution_count": 8,
   "metadata": {},
   "outputs": [
    {
     "name": "stderr",
     "output_type": "stream",
     "text": [
      "2022-08-31 09:21:34,316 INFO     pid:487878 nb:004:run Running: p2ch12.prepcache.LunaPrepCacheApp(['--num-workers=4']).main()\n",
      "2022-08-31 09:21:39,148 INFO     pid:487878 p2ch12.prepcache:043:main Starting LunaPrepCacheApp, Namespace(batch_size=1024, num_workers=4)\n",
      "2022-08-31 09:21:45,637 INFO     pid:487878 p2ch12.dsets:267:__init__ <p2ch12.dsets.LunaDataset object at 0x7fb92860d100>: 551065 training samples, 549714 neg, 1351 pos, unbalanced ratio\n",
      "2022-08-31 09:21:45,638 WARNING  pid:487878 util.util:219:enumerateWithEstimate Stuffing cache ----/539, starting\n",
      "2022-08-31 09:22:52,397 INFO     pid:487878 util.util:236:enumerateWithEstimate Stuffing cache   16/539, done at 2022-08-31 09:58:01, 0:36:01\n",
      "2022-08-31 09:30:24,690 INFO     pid:487878 util.util:236:enumerateWithEstimate Stuffing cache   64/539, done at 2022-08-31 10:35:47, 1:13:47\n",
      "MetaImage: M_ReadElementsData: data not read completely\n",
      "   ideal = 66584576 : actual = 1048576\n",
      "2022-08-31 10:10:21,277 INFO     pid:487878 util.util:236:enumerateWithEstimate Stuffing cache  256/539, done at 2022-08-31 11:04:15, 1:42:15\n",
      "2022-08-31 11:28:24,175 WARNING  pid:487878 util.util:249:enumerateWithEstimate Stuffing cache ----/539, done at 2022-08-31 11:28:24\n",
      "2022-08-31 11:28:24,210 INFO     pid:487878 nb:009:run Finished: p2ch12.prepcache.LunaPrepCacheApp.['--num-workers=4']).main()\n"
     ]
    }
   ],
   "source": [
    "run('p2ch12.prepcache.LunaPrepCacheApp')"
   ]
  },
  {
   "cell_type": "code",
   "execution_count": 10,
   "metadata": {},
   "outputs": [
    {
     "name": "stderr",
     "output_type": "stream",
     "text": [
      "2022-08-31 11:48:32,144 INFO     pid:487878 nb:004:run Running: p2ch12.training.LunaTrainingApp(['--num-workers=4', '--epochs=1', '--batch-size=512', 'unbalanced']).main()\n",
      "2022-08-31 11:48:32,159 INFO     pid:487878 p2ch12.training:127:initModel Using CUDA; 4 devices.\n",
      "2022-08-31 11:48:32,181 INFO     pid:487878 p2ch12.training:188:main Starting LunaTrainingApp, Namespace(augment_flip=False, augment_noise=False, augment_offset=False, augment_rotate=False, augment_scale=False, augmented=False, balanced=False, batch_size=512, comment='unbalanced', epochs=1, num_workers=4, tb_prefix='p2ch12')\n",
      "2022-08-31 11:48:33,017 INFO     pid:487878 p2ch12.dsets:267:__init__ <p2ch12.dsets.LunaDataset object at 0x7fb88540f4f0>: 495958 training samples, 494743 neg, 1215 pos, unbalanced ratio\n",
      "2022-08-31 11:48:33,120 INFO     pid:487878 p2ch12.dsets:267:__init__ <p2ch12.dsets.LunaDataset object at 0x7fb92827efd0>: 55107 validation samples, 54971 neg, 136 pos, unbalanced ratio\n",
      "2022-08-31 11:48:33,121 INFO     pid:487878 p2ch12.training:195:main Epoch 1 of 1, 243/27 batches of size 512*4\n",
      "2022-08-31 11:48:33,122 WARNING  pid:487878 util.util:219:enumerateWithEstimate E1 Training ----/243, starting\n",
      "2022-08-31 12:00:43,797 INFO     pid:487878 util.util:236:enumerateWithEstimate E1 Training   16/243, done at 2022-08-31 14:54:05, 3:03:19\n",
      "2022-08-31 12:33:15,831 INFO     pid:487878 util.util:236:enumerateWithEstimate E1 Training   64/243, done at 2022-08-31 14:37:17, 2:46:32\n",
      "2022-08-31 14:56:34,809 WARNING  pid:487878 util.util:249:enumerateWithEstimate E1 Training ----/243, done at 2022-08-31 14:56:34\n",
      "2022-08-31 14:56:37,514 INFO     pid:487878 p2ch12.training:304:logMetrics E1 LunaTrainingApp\n",
      "/home/media/data1/DataAnalysis/GitHub_Active/DL_with_pytorch/p2ch12/training.py:339: RuntimeWarning: invalid value encountered in double_scalars\n",
      "  2 * (precision * recall) / (precision + recall)\n",
      "2022-08-31 14:56:37,544 INFO     pid:487878 p2ch12.training:341:logMetrics E1 trn      0.0296 loss,  99.7% correct, 0.0000 precision, 0.0000 recall, nan f1 score\n",
      "2022-08-31 14:56:37,545 INFO     pid:487878 p2ch12.training:353:logMetrics E1 trn_neg  0.0037 loss, 100.0% correct (494687 of 494743)\n",
      "2022-08-31 14:56:37,545 INFO     pid:487878 p2ch12.training:364:logMetrics E1 trn_pos  10.5697 loss,   0.0% correct (0 of 1215)\n",
      "2022-08-31 14:56:37,612 WARNING  pid:487878 util.util:219:enumerateWithEstimate E1 Validation  ----/27, starting\n",
      "2022-08-31 15:06:57,016 INFO     pid:487878 util.util:236:enumerateWithEstimate E1 Validation     8/27, done at 2022-08-31 15:31:04, 0:30:49\n",
      "2022-08-31 15:14:10,908 INFO     pid:487878 util.util:236:enumerateWithEstimate E1 Validation    16/27, done at 2022-08-31 15:24:53, 0:24:38\n",
      "2022-08-31 15:20:49,985 WARNING  pid:487878 util.util:249:enumerateWithEstimate E1 Validation  ----/27, done at 2022-08-31 15:20:49\n",
      "2022-08-31 15:20:50,662 INFO     pid:487878 p2ch12.training:304:logMetrics E1 LunaTrainingApp\n",
      "/home/media/data1/DataAnalysis/GitHub_Active/DL_with_pytorch/p2ch12/training.py:334: RuntimeWarning: invalid value encountered in divide\n",
      "  truePos_count / np.float32(truePos_count + falsePos_count)\n",
      "2022-08-31 15:20:50,666 INFO     pid:487878 p2ch12.training:341:logMetrics E1 val      0.0175 loss,  99.8% correct, nan precision, 0.0000 recall, nan f1 score\n",
      "2022-08-31 15:20:50,667 INFO     pid:487878 p2ch12.training:353:logMetrics E1 val_neg  0.0038 loss, 100.0% correct (54971 of 54971)\n",
      "2022-08-31 15:20:50,668 INFO     pid:487878 p2ch12.training:364:logMetrics E1 val_pos  5.5805 loss,   0.0% correct (0 of 136)\n",
      "2022-08-31 15:20:50,748 INFO     pid:487878 nb:009:run Finished: p2ch12.training.LunaTrainingApp.['--num-workers=4', '--epochs=1', '--batch-size=512', 'unbalanced']).main()\n"
     ]
    }
   ],
   "source": [
    "run('p2ch12.training.LunaTrainingApp', '--epochs=1', '--batch-size=512', 'unbalanced')"
   ]
  },
  {
   "cell_type": "code",
   "execution_count": 5,
   "metadata": {},
   "outputs": [
    {
     "name": "stderr",
     "output_type": "stream",
     "text": [
      "2022-08-31 15:26:26,962 INFO     pid:599898 nb:004:run Running: p2ch12.training.LunaTrainingApp(['--num-workers=4', '--epochs=2', '--batch-size=512', '--balanced', 'balanced']).main()\n",
      "2022-08-31 15:34:23,041 INFO     pid:599898 p2ch12.training:127:initModel Using CUDA; 4 devices.\n",
      "2022-08-31 15:34:25,289 INFO     pid:599898 p2ch12.training:188:main Starting LunaTrainingApp, Namespace(augment_flip=False, augment_noise=False, augment_offset=False, augment_rotate=False, augment_scale=False, augmented=False, balanced=True, batch_size=512, comment='balanced', epochs=2, num_workers=4, tb_prefix='p2ch12')\n",
      "2022-08-31 15:34:31,594 INFO     pid:599898 p2ch12.dsets:267:__init__ <p2ch12.dsets.LunaDataset object at 0x7f3a023c9c70>: 495958 training samples, 494743 neg, 1215 pos, 1:1 ratio\n",
      "2022-08-31 15:34:31,661 INFO     pid:599898 p2ch12.dsets:267:__init__ <p2ch12.dsets.LunaDataset object at 0x7f3aa00d1af0>: 55107 validation samples, 54971 neg, 136 pos, unbalanced ratio\n",
      "2022-08-31 15:34:31,663 INFO     pid:599898 p2ch12.training:195:main Epoch 1 of 2, 98/27 batches of size 512*4\n",
      "2022-08-31 15:34:31,970 WARNING  pid:599898 util.util:219:enumerateWithEstimate E1 Training ----/98, starting\n",
      "2022-08-31 15:37:45,858 INFO     pid:599898 util.util:236:enumerateWithEstimate E1 Training    8/98, done at 2022-08-31 16:05:13, 0:29:00\n",
      "2022-08-31 15:39:24,040 INFO     pid:599898 util.util:236:enumerateWithEstimate E1 Training   16/98, done at 2022-08-31 15:59:12, 0:22:59\n",
      "2022-08-31 15:42:33,981 INFO     pid:599898 util.util:236:enumerateWithEstimate E1 Training   32/98, done at 2022-08-31 15:56:47, 0:20:33\n",
      "2022-08-31 15:49:57,271 INFO     pid:599898 util.util:236:enumerateWithEstimate E1 Training   64/98, done at 2022-08-31 15:57:23, 0:21:09\n",
      "2022-08-31 15:57:11,068 WARNING  pid:599898 util.util:249:enumerateWithEstimate E1 Training ----/98, done at 2022-08-31 15:57:11\n",
      "2022-08-31 15:57:25,431 INFO     pid:599898 p2ch12.training:304:logMetrics E1 LunaTrainingApp\n",
      "2022-08-31 15:57:25,441 INFO     pid:599898 p2ch12.training:341:logMetrics E1 trn      0.7178 loss,  50.1% correct, 0.5008 precision, 0.5008 recall, 0.5008 f1 score\n",
      "2022-08-31 15:57:25,443 INFO     pid:599898 p2ch12.training:353:logMetrics E1 trn_neg  0.7202 loss,  50.1% correct (50073 of 100000)\n",
      "2022-08-31 15:57:25,444 INFO     pid:599898 p2ch12.training:364:logMetrics E1 trn_pos  0.7153 loss,  50.1% correct (50082 of 100000)\n",
      "2022-08-31 15:57:25,494 WARNING  pid:599898 util.util:219:enumerateWithEstimate E1 Validation  ----/27, starting\n",
      "2022-08-31 15:57:32,206 INFO     pid:599898 util.util:236:enumerateWithEstimate E1 Validation     8/27, done at 2022-08-31 15:57:44, 0:00:15\n",
      "2022-08-31 15:57:34,953 INFO     pid:599898 util.util:236:enumerateWithEstimate E1 Validation    16/27, done at 2022-08-31 15:57:39, 0:00:10\n",
      "2022-08-31 15:57:39,842 WARNING  pid:599898 util.util:249:enumerateWithEstimate E1 Validation  ----/27, done at 2022-08-31 15:57:39\n",
      "2022-08-31 15:57:42,650 INFO     pid:599898 p2ch12.training:304:logMetrics E1 LunaTrainingApp\n",
      "2022-08-31 15:57:42,653 INFO     pid:599898 p2ch12.training:341:logMetrics E1 val      0.8061 loss,   0.2% correct, 0.0025 precision, 1.0000 recall, 0.0049 f1 score\n",
      "2022-08-31 15:57:42,654 INFO     pid:599898 p2ch12.training:353:logMetrics E1 val_neg  0.8066 loss,   0.0% correct (0 of 54971)\n",
      "2022-08-31 15:57:42,655 INFO     pid:599898 p2ch12.training:364:logMetrics E1 val_pos  0.5899 loss, 100.0% correct (136 of 136)\n",
      "2022-08-31 15:57:42,681 INFO     pid:599898 p2ch12.training:195:main Epoch 2 of 2, 98/27 batches of size 512*4\n",
      "2022-08-31 15:57:43,206 WARNING  pid:599898 util.util:219:enumerateWithEstimate E2 Training ----/98, starting\n",
      "2022-08-31 16:00:16,270 INFO     pid:599898 util.util:236:enumerateWithEstimate E2 Training    8/98, done at 2022-08-31 16:29:35, 0:30:57\n",
      "2022-08-31 16:01:54,952 INFO     pid:599898 util.util:236:enumerateWithEstimate E2 Training   16/98, done at 2022-08-31 16:22:25, 0:23:48\n",
      "2022-08-31 16:05:13,939 INFO     pid:599898 util.util:236:enumerateWithEstimate E2 Training   32/98, done at 2022-08-31 16:20:02, 0:21:25\n",
      "2022-08-31 16:12:25,027 INFO     pid:599898 util.util:236:enumerateWithEstimate E2 Training   64/98, done at 2022-08-31 16:19:52, 0:21:15\n",
      "2022-08-31 16:20:05,959 WARNING  pid:599898 util.util:249:enumerateWithEstimate E2 Training ----/98, done at 2022-08-31 16:20:05\n",
      "2022-08-31 16:20:06,622 INFO     pid:599898 p2ch12.training:304:logMetrics E2 LunaTrainingApp\n",
      "2022-08-31 16:20:06,627 INFO     pid:599898 p2ch12.training:341:logMetrics E2 trn      0.6731 loss,  56.4% correct, 0.5677 precision, 0.5350 recall, 0.5509 f1 score\n",
      "2022-08-31 16:20:06,628 INFO     pid:599898 p2ch12.training:353:logMetrics E2 trn_neg  0.6741 loss,  59.3% correct (59256 of 100000)\n",
      "2022-08-31 16:20:06,628 INFO     pid:599898 p2ch12.training:364:logMetrics E2 trn_pos  0.6720 loss,  53.5% correct (53503 of 100000)\n",
      "2022-08-31 16:20:08,637 WARNING  pid:599898 util.util:219:enumerateWithEstimate E2 Validation  ----/27, starting\n",
      "2022-08-31 16:20:15,185 INFO     pid:599898 util.util:236:enumerateWithEstimate E2 Validation     8/27, done at 2022-08-31 16:20:27, 0:00:15\n",
      "2022-08-31 16:20:17,473 INFO     pid:599898 util.util:236:enumerateWithEstimate E2 Validation    16/27, done at 2022-08-31 16:20:21, 0:00:09\n",
      "2022-08-31 16:20:21,577 WARNING  pid:599898 util.util:249:enumerateWithEstimate E2 Validation  ----/27, done at 2022-08-31 16:20:21\n",
      "2022-08-31 16:20:25,860 INFO     pid:599898 p2ch12.training:304:logMetrics E2 LunaTrainingApp\n",
      "2022-08-31 16:20:25,863 INFO     pid:599898 p2ch12.training:341:logMetrics E2 val      0.4733 loss,  81.8% correct, 0.0065 precision, 0.4779 recall, 0.0128 f1 score\n",
      "2022-08-31 16:20:25,864 INFO     pid:599898 p2ch12.training:353:logMetrics E2 val_neg  0.4725 loss,  81.9% correct (45009 of 54971)\n",
      "2022-08-31 16:20:25,865 INFO     pid:599898 p2ch12.training:364:logMetrics E2 val_pos  0.7808 loss,  47.8% correct (65 of 136)\n",
      "2022-08-31 16:20:35,994 INFO     pid:599898 nb:009:run Finished: p2ch12.training.LunaTrainingApp.['--num-workers=4', '--epochs=2', '--batch-size=512', '--balanced', 'balanced']).main()\n"
     ]
    }
   ],
   "source": [
    "run('p2ch12.training.LunaTrainingApp', f'--epochs={training_epochs}', '--batch-size=512', '--balanced', 'balanced')"
   ]
  },
  {
   "cell_type": "code",
   "execution_count": 6,
   "metadata": {},
   "outputs": [
    {
     "name": "stderr",
     "output_type": "stream",
     "text": [
      "2022-08-31 16:20:36,151 INFO     pid:599898 nb:004:run Running: p2ch12.training.LunaTrainingApp(['--num-workers=4', '--epochs=2', '--batch-size=512', '--balanced', '--augment-flip', 'flip']).main()\n",
      "2022-08-31 16:20:36,163 INFO     pid:599898 p2ch12.training:127:initModel Using CUDA; 4 devices.\n",
      "2022-08-31 16:20:36,166 INFO     pid:599898 p2ch12.training:188:main Starting LunaTrainingApp, Namespace(augment_flip=True, augment_noise=False, augment_offset=False, augment_rotate=False, augment_scale=False, augmented=False, balanced=True, batch_size=512, comment='flip', epochs=2, num_workers=4, tb_prefix='p2ch12')\n",
      "2022-08-31 16:20:36,655 INFO     pid:599898 p2ch12.dsets:267:__init__ <p2ch12.dsets.LunaDataset object at 0x7f3a00f75640>: 495958 training samples, 494743 neg, 1215 pos, 1:1 ratio\n",
      "2022-08-31 16:20:36,738 INFO     pid:599898 p2ch12.dsets:267:__init__ <p2ch12.dsets.LunaDataset object at 0x7f3a023d1b20>: 55107 validation samples, 54971 neg, 136 pos, unbalanced ratio\n",
      "2022-08-31 16:20:36,739 INFO     pid:599898 p2ch12.training:195:main Epoch 1 of 2, 98/27 batches of size 512*4\n",
      "2022-08-31 16:20:37,223 WARNING  pid:599898 util.util:219:enumerateWithEstimate E1 Training ----/98, starting\n",
      "2022-08-31 16:23:52,305 INFO     pid:599898 util.util:236:enumerateWithEstimate E1 Training    8/98, done at 2022-08-31 17:01:08, 0:39:21\n",
      "2022-08-31 16:25:54,049 INFO     pid:599898 util.util:236:enumerateWithEstimate E1 Training   16/98, done at 2022-08-31 16:51:35, 0:29:48\n",
      "2022-08-31 16:30:00,048 INFO     pid:599898 util.util:236:enumerateWithEstimate E1 Training   32/98, done at 2022-08-31 16:48:25, 0:26:39\n",
      "2022-08-31 16:37:19,070 INFO     pid:599898 util.util:236:enumerateWithEstimate E1 Training   64/98, done at 2022-08-31 16:45:43, 0:23:56\n",
      "2022-08-31 16:42:29,767 WARNING  pid:599898 util.util:249:enumerateWithEstimate E1 Training ----/98, done at 2022-08-31 16:42:29\n",
      "2022-08-31 16:42:31,769 INFO     pid:599898 p2ch12.training:304:logMetrics E1 LunaTrainingApp\n",
      "2022-08-31 16:42:31,775 INFO     pid:599898 p2ch12.training:341:logMetrics E1 trn      0.7073 loss,  60.0% correct, 0.6049 precision, 0.5779 recall, 0.5911 f1 score\n",
      "2022-08-31 16:42:31,776 INFO     pid:599898 p2ch12.training:353:logMetrics E1 trn_neg  0.6708 loss,  62.3% correct (62260 of 100000)\n",
      "2022-08-31 16:42:31,777 INFO     pid:599898 p2ch12.training:364:logMetrics E1 trn_pos  0.7438 loss,  57.8% correct (57786 of 100000)\n",
      "2022-08-31 16:42:31,827 WARNING  pid:599898 util.util:219:enumerateWithEstimate E1 Validation  ----/27, starting\n",
      "2022-08-31 16:42:37,820 INFO     pid:599898 util.util:236:enumerateWithEstimate E1 Validation     8/27, done at 2022-08-31 16:42:48, 0:00:13\n",
      "2022-08-31 16:42:41,104 INFO     pid:599898 util.util:236:enumerateWithEstimate E1 Validation    16/27, done at 2022-08-31 16:42:45, 0:00:10\n",
      "2022-08-31 16:42:44,109 WARNING  pid:599898 util.util:249:enumerateWithEstimate E1 Validation  ----/27, done at 2022-08-31 16:42:44\n",
      "2022-08-31 16:42:48,992 INFO     pid:599898 p2ch12.training:304:logMetrics E1 LunaTrainingApp\n",
      "2022-08-31 16:42:48,995 INFO     pid:599898 p2ch12.training:341:logMetrics E1 val      0.5307 loss,  79.2% correct, 0.0078 precision, 0.6618 recall, 0.0155 f1 score\n",
      "2022-08-31 16:42:48,996 INFO     pid:599898 p2ch12.training:353:logMetrics E1 val_neg  0.5306 loss,  79.3% correct (43568 of 54971)\n",
      "2022-08-31 16:42:48,997 INFO     pid:599898 p2ch12.training:364:logMetrics E1 val_pos  0.5597 loss,  66.2% correct (90 of 136)\n",
      "2022-08-31 16:42:49,025 INFO     pid:599898 p2ch12.training:195:main Epoch 2 of 2, 98/27 batches of size 512*4\n",
      "2022-08-31 16:42:49,482 WARNING  pid:599898 util.util:219:enumerateWithEstimate E2 Training ----/98, starting\n",
      "2022-08-31 16:44:41,401 INFO     pid:599898 util.util:236:enumerateWithEstimate E2 Training    8/98, done at 2022-08-31 17:06:39, 0:23:11\n",
      "2022-08-31 16:45:56,072 INFO     pid:599898 util.util:236:enumerateWithEstimate E2 Training   16/98, done at 2022-08-31 17:01:22, 0:17:55\n",
      "2022-08-31 16:48:34,769 INFO     pid:599898 util.util:236:enumerateWithEstimate E2 Training   32/98, done at 2022-08-31 17:00:03, 0:16:36\n",
      "2022-08-31 16:54:07,285 INFO     pid:599898 util.util:236:enumerateWithEstimate E2 Training   64/98, done at 2022-08-31 16:59:53, 0:16:26\n",
      "2022-08-31 16:59:51,223 WARNING  pid:599898 util.util:249:enumerateWithEstimate E2 Training ----/98, done at 2022-08-31 16:59:51\n",
      "2022-08-31 16:59:53,178 INFO     pid:599898 p2ch12.training:304:logMetrics E2 LunaTrainingApp\n",
      "2022-08-31 16:59:53,186 INFO     pid:599898 p2ch12.training:341:logMetrics E2 trn      0.4944 loss,  76.3% correct, 0.7803 precision, 0.7308 recall, 0.7548 f1 score\n",
      "2022-08-31 16:59:53,186 INFO     pid:599898 p2ch12.training:353:logMetrics E2 trn_neg  0.4840 loss,  79.4% correct (79420 of 100000)\n",
      "2022-08-31 16:59:53,187 INFO     pid:599898 p2ch12.training:364:logMetrics E2 trn_pos  0.5049 loss,  73.1% correct (73084 of 100000)\n",
      "2022-08-31 16:59:53,237 WARNING  pid:599898 util.util:219:enumerateWithEstimate E2 Validation  ----/27, starting\n",
      "2022-08-31 16:59:59,376 INFO     pid:599898 util.util:236:enumerateWithEstimate E2 Validation     8/27, done at 2022-08-31 17:00:09, 0:00:12\n",
      "2022-08-31 17:00:02,555 INFO     pid:599898 util.util:236:enumerateWithEstimate E2 Validation    16/27, done at 2022-08-31 17:00:07, 0:00:10\n",
      "2022-08-31 17:00:05,983 WARNING  pid:599898 util.util:249:enumerateWithEstimate E2 Validation  ----/27, done at 2022-08-31 17:00:05\n",
      "2022-08-31 17:00:10,040 INFO     pid:599898 p2ch12.training:304:logMetrics E2 LunaTrainingApp\n",
      "2022-08-31 17:00:10,043 INFO     pid:599898 p2ch12.training:341:logMetrics E2 val      0.4391 loss,  81.4% correct, 0.0100 precision, 0.7574 recall, 0.0197 f1 score\n",
      "2022-08-31 17:00:10,044 INFO     pid:599898 p2ch12.training:353:logMetrics E2 val_neg  0.4390 loss,  81.4% correct (44765 of 54971)\n",
      "2022-08-31 17:00:10,045 INFO     pid:599898 p2ch12.training:364:logMetrics E2 val_pos  0.4814 loss,  75.7% correct (103 of 136)\n",
      "2022-08-31 17:00:10,136 INFO     pid:599898 nb:009:run Finished: p2ch12.training.LunaTrainingApp.['--num-workers=4', '--epochs=2', '--batch-size=512', '--balanced', '--augment-flip', 'flip']).main()\n"
     ]
    }
   ],
   "source": [
    "run('p2ch12.training.LunaTrainingApp', f'--epochs={experiment_epochs}','--batch-size=512', '--balanced', '--augment-flip', 'flip')"
   ]
  },
  {
   "cell_type": "code",
   "execution_count": 7,
   "metadata": {},
   "outputs": [
    {
     "name": "stderr",
     "output_type": "stream",
     "text": [
      "2022-08-31 17:01:03,321 INFO     pid:599898 nb:004:run Running: p2ch12.training.LunaTrainingApp(['--num-workers=4', '--epochs=2', '--batch-size=512', '--balanced', '--augment-offset', 'offset']).main()\n",
      "2022-08-31 17:01:03,333 INFO     pid:599898 p2ch12.training:127:initModel Using CUDA; 4 devices.\n",
      "2022-08-31 17:01:03,355 INFO     pid:599898 p2ch12.training:188:main Starting LunaTrainingApp, Namespace(augment_flip=False, augment_noise=False, augment_offset=True, augment_rotate=False, augment_scale=False, augmented=False, balanced=True, batch_size=512, comment='offset', epochs=2, num_workers=4, tb_prefix='p2ch12')\n",
      "2022-08-31 17:01:04,126 INFO     pid:599898 p2ch12.dsets:267:__init__ <p2ch12.dsets.LunaDataset object at 0x7f3a023d1190>: 495958 training samples, 494743 neg, 1215 pos, 1:1 ratio\n",
      "2022-08-31 17:01:04,233 INFO     pid:599898 p2ch12.dsets:267:__init__ <p2ch12.dsets.LunaDataset object at 0x7f3aa047ee50>: 55107 validation samples, 54971 neg, 136 pos, unbalanced ratio\n",
      "2022-08-31 17:01:04,234 INFO     pid:599898 p2ch12.training:195:main Epoch 1 of 2, 98/27 batches of size 512*4\n",
      "2022-08-31 17:01:04,804 WARNING  pid:599898 util.util:219:enumerateWithEstimate E1 Training ----/98, starting\n",
      "2022-08-31 17:03:07,181 INFO     pid:599898 util.util:236:enumerateWithEstimate E1 Training    8/98, done at 2022-08-31 17:27:13, 0:25:27\n",
      "2022-08-31 17:04:25,856 INFO     pid:599898 util.util:236:enumerateWithEstimate E1 Training   16/98, done at 2022-08-31 17:21:02, 0:19:16\n",
      "2022-08-31 17:07:09,465 INFO     pid:599898 util.util:236:enumerateWithEstimate E1 Training   32/98, done at 2022-08-31 17:19:14, 0:17:28\n",
      "2022-08-31 17:12:40,060 INFO     pid:599898 util.util:236:enumerateWithEstimate E1 Training   64/98, done at 2022-08-31 17:18:33, 0:16:47\n",
      "2022-08-31 17:18:10,812 WARNING  pid:599898 util.util:249:enumerateWithEstimate E1 Training ----/98, done at 2022-08-31 17:18:10\n",
      "2022-08-31 17:18:12,777 INFO     pid:599898 p2ch12.training:304:logMetrics E1 LunaTrainingApp\n",
      "2022-08-31 17:18:12,784 INFO     pid:599898 p2ch12.training:341:logMetrics E1 trn      0.7620 loss,  50.1% correct, 0.5008 precision, 0.4626 recall, 0.4809 f1 score\n",
      "2022-08-31 17:18:12,785 INFO     pid:599898 p2ch12.training:353:logMetrics E1 trn_neg  0.7849 loss,  53.9% correct (53892 of 100000)\n",
      "2022-08-31 17:18:12,786 INFO     pid:599898 p2ch12.training:364:logMetrics E1 trn_pos  0.7392 loss,  46.3% correct (46256 of 100000)\n",
      "2022-08-31 17:18:12,838 WARNING  pid:599898 util.util:219:enumerateWithEstimate E1 Validation  ----/27, starting\n",
      "2022-08-31 17:18:19,927 INFO     pid:599898 util.util:236:enumerateWithEstimate E1 Validation     8/27, done at 2022-08-31 17:18:32, 0:00:16\n",
      "2022-08-31 17:18:23,305 INFO     pid:599898 util.util:236:enumerateWithEstimate E1 Validation    16/27, done at 2022-08-31 17:18:28, 0:00:12\n",
      "2022-08-31 17:18:26,082 WARNING  pid:599898 util.util:249:enumerateWithEstimate E1 Validation  ----/27, done at 2022-08-31 17:18:26\n",
      "2022-08-31 17:18:30,203 INFO     pid:599898 p2ch12.training:304:logMetrics E1 LunaTrainingApp\n",
      "2022-08-31 17:18:30,206 INFO     pid:599898 p2ch12.training:341:logMetrics E1 val      0.7015 loss,  24.3% correct, 0.0027 precision, 0.8235 recall, 0.0053 f1 score\n",
      "2022-08-31 17:18:30,207 INFO     pid:599898 p2ch12.training:353:logMetrics E1 val_neg  0.7015 loss,  24.1% correct (13270 of 54971)\n",
      "2022-08-31 17:18:30,208 INFO     pid:599898 p2ch12.training:364:logMetrics E1 val_pos  0.6818 loss,  82.4% correct (112 of 136)\n",
      "2022-08-31 17:18:30,237 INFO     pid:599898 p2ch12.training:195:main Epoch 2 of 2, 98/27 batches of size 512*4\n",
      "2022-08-31 17:18:30,654 WARNING  pid:599898 util.util:219:enumerateWithEstimate E2 Training ----/98, starting\n",
      "2022-08-31 17:20:29,680 INFO     pid:599898 util.util:236:enumerateWithEstimate E2 Training    8/98, done at 2022-08-31 17:43:28, 0:24:16\n",
      "2022-08-31 17:21:47,603 INFO     pid:599898 util.util:236:enumerateWithEstimate E2 Training   16/98, done at 2022-08-31 17:37:55, 0:18:43\n",
      "2022-08-31 17:24:26,624 INFO     pid:599898 util.util:236:enumerateWithEstimate E2 Training   32/98, done at 2022-08-31 17:36:11, 0:16:59\n",
      "2022-08-31 17:29:54,328 INFO     pid:599898 util.util:236:enumerateWithEstimate E2 Training   64/98, done at 2022-08-31 17:35:41, 0:16:29\n",
      "2022-08-31 17:35:32,694 WARNING  pid:599898 util.util:249:enumerateWithEstimate E2 Training ----/98, done at 2022-08-31 17:35:32\n",
      "2022-08-31 17:35:34,693 INFO     pid:599898 p2ch12.training:304:logMetrics E2 LunaTrainingApp\n",
      "2022-08-31 17:35:34,698 INFO     pid:599898 p2ch12.training:341:logMetrics E2 trn      0.6582 loss,  60.8% correct, 0.6119 precision, 0.5921 recall, 0.6018 f1 score\n",
      "2022-08-31 17:35:34,699 INFO     pid:599898 p2ch12.training:353:logMetrics E2 trn_neg  0.6570 loss,  62.4% correct (62438 of 100000)\n",
      "2022-08-31 17:35:34,700 INFO     pid:599898 p2ch12.training:364:logMetrics E2 trn_pos  0.6593 loss,  59.2% correct (59213 of 100000)\n",
      "2022-08-31 17:35:34,762 WARNING  pid:599898 util.util:219:enumerateWithEstimate E2 Validation  ----/27, starting\n",
      "2022-08-31 17:35:41,160 INFO     pid:599898 util.util:236:enumerateWithEstimate E2 Validation     8/27, done at 2022-08-31 17:35:51, 0:00:13\n",
      "2022-08-31 17:35:44,044 INFO     pid:599898 util.util:236:enumerateWithEstimate E2 Validation    16/27, done at 2022-08-31 17:35:48, 0:00:10\n",
      "2022-08-31 17:35:47,179 WARNING  pid:599898 util.util:249:enumerateWithEstimate E2 Validation  ----/27, done at 2022-08-31 17:35:47\n",
      "2022-08-31 17:35:51,397 INFO     pid:599898 p2ch12.training:304:logMetrics E2 LunaTrainingApp\n",
      "2022-08-31 17:35:51,400 INFO     pid:599898 p2ch12.training:341:logMetrics E2 val      0.4933 loss,  83.0% correct, 0.0086 precision, 0.5956 recall, 0.0170 f1 score\n",
      "2022-08-31 17:35:51,400 INFO     pid:599898 p2ch12.training:353:logMetrics E2 val_neg  0.4928 loss,  83.0% correct (45635 of 54971)\n",
      "2022-08-31 17:35:51,401 INFO     pid:599898 p2ch12.training:364:logMetrics E2 val_pos  0.7268 loss,  59.6% correct (81 of 136)\n",
      "2022-08-31 17:35:51,523 INFO     pid:599898 nb:009:run Finished: p2ch12.training.LunaTrainingApp.['--num-workers=4', '--epochs=2', '--batch-size=512', '--balanced', '--augment-offset', 'offset']).main()\n"
     ]
    }
   ],
   "source": [
    "run('p2ch12.training.LunaTrainingApp', f'--epochs={experiment_epochs}', '--batch-size=512', '--balanced', '--augment-offset', 'offset')"
   ]
  },
  {
   "cell_type": "code",
   "execution_count": 8,
   "metadata": {},
   "outputs": [
    {
     "name": "stderr",
     "output_type": "stream",
     "text": [
      "2022-08-31 17:35:51,628 INFO     pid:599898 nb:004:run Running: p2ch12.training.LunaTrainingApp(['--num-workers=4', '--epochs=2', '--batch-size=512', '--balanced', '--augment-scale', 'scale']).main()\n",
      "2022-08-31 17:35:51,643 INFO     pid:599898 p2ch12.training:127:initModel Using CUDA; 4 devices.\n",
      "2022-08-31 17:35:51,646 INFO     pid:599898 p2ch12.training:188:main Starting LunaTrainingApp, Namespace(augment_flip=False, augment_noise=False, augment_offset=False, augment_rotate=False, augment_scale=True, augmented=False, balanced=True, batch_size=512, comment='scale', epochs=2, num_workers=4, tb_prefix='p2ch12')\n",
      "2022-08-31 17:35:52,366 INFO     pid:599898 p2ch12.dsets:267:__init__ <p2ch12.dsets.LunaDataset object at 0x7f3a00d5f730>: 495958 training samples, 494743 neg, 1215 pos, 1:1 ratio\n",
      "2022-08-31 17:35:52,462 INFO     pid:599898 p2ch12.dsets:267:__init__ <p2ch12.dsets.LunaDataset object at 0x7f3a00fa4d60>: 55107 validation samples, 54971 neg, 136 pos, unbalanced ratio\n",
      "2022-08-31 17:35:52,463 INFO     pid:599898 p2ch12.training:195:main Epoch 1 of 2, 98/27 batches of size 512*4\n",
      "2022-08-31 17:35:53,003 WARNING  pid:599898 util.util:219:enumerateWithEstimate E1 Training ----/98, starting\n",
      "2022-08-31 17:37:50,373 INFO     pid:599898 util.util:236:enumerateWithEstimate E1 Training    8/98, done at 2022-08-31 18:00:20, 0:23:45\n",
      "2022-08-31 17:39:07,969 INFO     pid:599898 util.util:236:enumerateWithEstimate E1 Training   16/98, done at 2022-08-31 17:55:03, 0:18:29\n",
      "2022-08-31 17:41:50,554 INFO     pid:599898 util.util:236:enumerateWithEstimate E1 Training   32/98, done at 2022-08-31 17:53:38, 0:17:04\n",
      "2022-08-31 17:47:25,948 INFO     pid:599898 util.util:236:enumerateWithEstimate E1 Training   64/98, done at 2022-08-31 17:53:18, 0:16:43\n",
      "2022-08-31 17:53:10,657 WARNING  pid:599898 util.util:249:enumerateWithEstimate E1 Training ----/98, done at 2022-08-31 17:53:10\n",
      "2022-08-31 17:53:12,641 INFO     pid:599898 p2ch12.training:304:logMetrics E1 LunaTrainingApp\n",
      "2022-08-31 17:53:12,649 INFO     pid:599898 p2ch12.training:341:logMetrics E1 trn      0.7346 loss,  50.1% correct, 0.5010 precision, 0.4918 recall, 0.4964 f1 score\n",
      "2022-08-31 17:53:12,650 INFO     pid:599898 p2ch12.training:353:logMetrics E1 trn_neg  0.7295 loss,  51.0% correct (51022 of 100000)\n",
      "2022-08-31 17:53:12,651 INFO     pid:599898 p2ch12.training:364:logMetrics E1 trn_pos  0.7398 loss,  49.2% correct (49179 of 100000)\n",
      "2022-08-31 17:53:12,702 WARNING  pid:599898 util.util:219:enumerateWithEstimate E1 Validation  ----/27, starting\n",
      "2022-08-31 17:53:19,409 INFO     pid:599898 util.util:236:enumerateWithEstimate E1 Validation     8/27, done at 2022-08-31 17:53:30, 0:00:14\n",
      "2022-08-31 17:53:22,290 INFO     pid:599898 util.util:236:enumerateWithEstimate E1 Validation    16/27, done at 2022-08-31 17:53:26, 0:00:10\n",
      "2022-08-31 17:53:25,545 WARNING  pid:599898 util.util:249:enumerateWithEstimate E1 Validation  ----/27, done at 2022-08-31 17:53:25\n",
      "2022-08-31 17:53:30,296 INFO     pid:599898 p2ch12.training:304:logMetrics E1 LunaTrainingApp\n",
      "/home/media/data1/DataAnalysis/GitHub_Active/DL_with_pytorch/p2ch12/training.py:339: RuntimeWarning: invalid value encountered in double_scalars\n",
      "  2 * (precision * recall) / (precision + recall)\n",
      "2022-08-31 17:53:30,299 INFO     pid:599898 p2ch12.training:341:logMetrics E1 val      0.6017 loss,  99.7% correct, 0.0000 precision, 0.0000 recall, nan f1 score\n",
      "2022-08-31 17:53:30,300 INFO     pid:599898 p2ch12.training:353:logMetrics E1 val_neg  0.6012 loss,  99.9% correct (54942 of 54971)\n",
      "2022-08-31 17:53:30,301 INFO     pid:599898 p2ch12.training:364:logMetrics E1 val_pos  0.7922 loss,   0.0% correct (0 of 136)\n",
      "2022-08-31 17:53:30,325 INFO     pid:599898 p2ch12.training:195:main Epoch 2 of 2, 98/27 batches of size 512*4\n",
      "2022-08-31 17:53:30,726 WARNING  pid:599898 util.util:219:enumerateWithEstimate E2 Training ----/98, starting\n",
      "2022-08-31 17:55:32,700 INFO     pid:599898 util.util:236:enumerateWithEstimate E2 Training    8/98, done at 2022-08-31 18:19:04, 0:24:51\n",
      "2022-08-31 17:56:52,423 INFO     pid:599898 util.util:236:enumerateWithEstimate E2 Training   16/98, done at 2022-08-31 18:13:23, 0:19:09\n",
      "2022-08-31 17:59:37,297 INFO     pid:599898 util.util:236:enumerateWithEstimate E2 Training   32/98, done at 2022-08-31 18:11:43, 0:17:29\n",
      "2022-08-31 18:05:23,148 INFO     pid:599898 util.util:236:enumerateWithEstimate E2 Training   64/98, done at 2022-08-31 18:11:25, 0:17:12\n",
      "2022-08-31 18:11:24,555 WARNING  pid:599898 util.util:249:enumerateWithEstimate E2 Training ----/98, done at 2022-08-31 18:11:24\n",
      "2022-08-31 18:11:26,530 INFO     pid:599898 p2ch12.training:304:logMetrics E2 LunaTrainingApp\n",
      "2022-08-31 18:11:26,537 INFO     pid:599898 p2ch12.training:341:logMetrics E2 trn      0.6676 loss,  57.5% correct, 0.5771 precision, 0.5608 recall, 0.5688 f1 score\n",
      "2022-08-31 18:11:26,538 INFO     pid:599898 p2ch12.training:353:logMetrics E2 trn_neg  0.6699 loss,  58.9% correct (58899 of 100000)\n",
      "2022-08-31 18:11:26,539 INFO     pid:599898 p2ch12.training:364:logMetrics E2 trn_pos  0.6653 loss,  56.1% correct (56076 of 100000)\n",
      "2022-08-31 18:11:26,600 WARNING  pid:599898 util.util:219:enumerateWithEstimate E2 Validation  ----/27, starting\n",
      "2022-08-31 18:11:32,600 INFO     pid:599898 util.util:236:enumerateWithEstimate E2 Validation     8/27, done at 2022-08-31 18:11:41, 0:00:11\n",
      "2022-08-31 18:11:36,123 INFO     pid:599898 util.util:236:enumerateWithEstimate E2 Validation    16/27, done at 2022-08-31 18:11:40, 0:00:10\n",
      "2022-08-31 18:11:39,680 WARNING  pid:599898 util.util:249:enumerateWithEstimate E2 Validation  ----/27, done at 2022-08-31 18:11:39\n",
      "2022-08-31 18:11:43,537 INFO     pid:599898 p2ch12.training:304:logMetrics E2 LunaTrainingApp\n",
      "2022-08-31 18:11:43,541 INFO     pid:599898 p2ch12.training:341:logMetrics E2 val      0.5310 loss,  78.2% correct, 0.0069 precision, 0.6103 recall, 0.0136 f1 score\n",
      "2022-08-31 18:11:43,542 INFO     pid:599898 p2ch12.training:353:logMetrics E2 val_neg  0.5308 loss,  78.3% correct (43015 of 54971)\n",
      "2022-08-31 18:11:43,543 INFO     pid:599898 p2ch12.training:364:logMetrics E2 val_pos  0.6128 loss,  61.0% correct (83 of 136)\n",
      "2022-08-31 18:11:43,649 INFO     pid:599898 nb:009:run Finished: p2ch12.training.LunaTrainingApp.['--num-workers=4', '--epochs=2', '--batch-size=512', '--balanced', '--augment-scale', 'scale']).main()\n"
     ]
    }
   ],
   "source": [
    "run('p2ch12.training.LunaTrainingApp', f'--epochs={experiment_epochs}', '--batch-size=512', '--balanced', '--augment-scale', 'scale')"
   ]
  },
  {
   "cell_type": "code",
   "execution_count": 9,
   "metadata": {},
   "outputs": [
    {
     "name": "stderr",
     "output_type": "stream",
     "text": [
      "2022-08-31 18:11:43,785 INFO     pid:599898 nb:004:run Running: p2ch12.training.LunaTrainingApp(['--num-workers=4', '--epochs=2', '--batch-size=512', '--balanced', '--augment-rotate', 'rotate']).main()\n",
      "2022-08-31 18:11:43,796 INFO     pid:599898 p2ch12.training:127:initModel Using CUDA; 4 devices.\n",
      "2022-08-31 18:11:43,799 INFO     pid:599898 p2ch12.training:188:main Starting LunaTrainingApp, Namespace(augment_flip=False, augment_noise=False, augment_offset=False, augment_rotate=True, augment_scale=False, augmented=False, balanced=True, batch_size=512, comment='rotate', epochs=2, num_workers=4, tb_prefix='p2ch12')\n",
      "2022-08-31 18:11:44,612 INFO     pid:599898 p2ch12.dsets:267:__init__ <p2ch12.dsets.LunaDataset object at 0x7f3a00f05850>: 495958 training samples, 494743 neg, 1215 pos, 1:1 ratio\n",
      "2022-08-31 18:11:44,732 INFO     pid:599898 p2ch12.dsets:267:__init__ <p2ch12.dsets.LunaDataset object at 0x7f3aa047b460>: 55107 validation samples, 54971 neg, 136 pos, unbalanced ratio\n",
      "2022-08-31 18:11:44,734 INFO     pid:599898 p2ch12.training:195:main Epoch 1 of 2, 98/27 batches of size 512*4\n",
      "2022-08-31 18:11:45,328 WARNING  pid:599898 util.util:219:enumerateWithEstimate E1 Training ----/98, starting\n",
      "2022-08-31 18:13:53,204 INFO     pid:599898 util.util:236:enumerateWithEstimate E1 Training    8/98, done at 2022-08-31 18:38:13, 0:25:42\n",
      "2022-08-31 18:15:18,670 INFO     pid:599898 util.util:236:enumerateWithEstimate E1 Training   16/98, done at 2022-08-31 18:32:42, 0:20:11\n",
      "2022-08-31 18:18:09,786 INFO     pid:599898 util.util:236:enumerateWithEstimate E1 Training   32/98, done at 2022-08-31 18:30:48, 0:18:17\n",
      "2022-08-31 18:24:10,889 INFO     pid:599898 util.util:236:enumerateWithEstimate E1 Training   64/98, done at 2022-08-31 18:30:29, 0:17:58\n",
      "2022-08-31 18:30:15,941 WARNING  pid:599898 util.util:249:enumerateWithEstimate E1 Training ----/98, done at 2022-08-31 18:30:15\n",
      "2022-08-31 18:30:17,917 INFO     pid:599898 p2ch12.training:304:logMetrics E1 LunaTrainingApp\n",
      "2022-08-31 18:30:17,923 INFO     pid:599898 p2ch12.training:341:logMetrics E1 trn      0.6267 loss,  65.0% correct, 0.6647 precision, 0.6050 recall, 0.6334 f1 score\n",
      "2022-08-31 18:30:17,924 INFO     pid:599898 p2ch12.training:353:logMetrics E1 trn_neg  0.6285 loss,  69.5% correct (69480 of 100000)\n",
      "2022-08-31 18:30:17,925 INFO     pid:599898 p2ch12.training:364:logMetrics E1 trn_pos  0.6250 loss,  60.5% correct (60499 of 100000)\n",
      "2022-08-31 18:30:17,991 WARNING  pid:599898 util.util:219:enumerateWithEstimate E1 Validation  ----/27, starting\n",
      "2022-08-31 18:30:23,840 INFO     pid:599898 util.util:236:enumerateWithEstimate E1 Validation     8/27, done at 2022-08-31 18:30:32, 0:00:10\n",
      "2022-08-31 18:30:27,401 INFO     pid:599898 util.util:236:enumerateWithEstimate E1 Validation    16/27, done at 2022-08-31 18:30:31, 0:00:10\n",
      "2022-08-31 18:30:31,210 WARNING  pid:599898 util.util:249:enumerateWithEstimate E1 Validation  ----/27, done at 2022-08-31 18:30:31\n",
      "2022-08-31 18:30:34,334 INFO     pid:599898 p2ch12.training:304:logMetrics E1 LunaTrainingApp\n",
      "2022-08-31 18:30:34,336 INFO     pid:599898 p2ch12.training:341:logMetrics E1 val      0.5896 loss,  73.9% correct, 0.0071 precision, 0.7574 recall, 0.0141 f1 score\n",
      "2022-08-31 18:30:34,337 INFO     pid:599898 p2ch12.training:353:logMetrics E1 val_neg  0.5900 loss,  73.9% correct (40647 of 54971)\n",
      "2022-08-31 18:30:34,338 INFO     pid:599898 p2ch12.training:364:logMetrics E1 val_pos  0.4294 loss,  75.7% correct (103 of 136)\n",
      "2022-08-31 18:30:34,370 INFO     pid:599898 p2ch12.training:195:main Epoch 2 of 2, 98/27 batches of size 512*4\n",
      "2022-08-31 18:30:34,984 WARNING  pid:599898 util.util:219:enumerateWithEstimate E2 Training ----/98, starting\n",
      "2022-08-31 18:32:44,451 INFO     pid:599898 util.util:236:enumerateWithEstimate E2 Training    8/98, done at 2022-08-31 18:57:44, 0:26:24\n",
      "2022-08-31 18:34:10,319 INFO     pid:599898 util.util:236:enumerateWithEstimate E2 Training   16/98, done at 2022-08-31 18:51:50, 0:20:30\n",
      "2022-08-31 18:37:01,248 INFO     pid:599898 util.util:236:enumerateWithEstimate E2 Training   32/98, done at 2022-08-31 18:49:45, 0:18:25\n",
      "2022-08-31 18:43:00,345 INFO     pid:599898 util.util:236:enumerateWithEstimate E2 Training   64/98, done at 2022-08-31 18:49:19, 0:17:58\n",
      "2022-08-31 18:48:58,743 WARNING  pid:599898 util.util:249:enumerateWithEstimate E2 Training ----/98, done at 2022-08-31 18:48:58\n",
      "2022-08-31 18:49:00,736 INFO     pid:599898 p2ch12.training:304:logMetrics E2 LunaTrainingApp\n",
      "2022-08-31 18:49:00,744 INFO     pid:599898 p2ch12.training:341:logMetrics E2 trn      0.3769 loss,  83.3% correct, 0.8502 precision, 0.8077 recall, 0.8284 f1 score\n",
      "2022-08-31 18:49:00,745 INFO     pid:599898 p2ch12.training:353:logMetrics E2 trn_neg  0.3539 loss,  85.8% correct (85766 of 100000)\n",
      "2022-08-31 18:49:00,746 INFO     pid:599898 p2ch12.training:364:logMetrics E2 trn_pos  0.3998 loss,  80.8% correct (80771 of 100000)\n",
      "2022-08-31 18:49:00,798 WARNING  pid:599898 util.util:219:enumerateWithEstimate E2 Validation  ----/27, starting\n",
      "2022-08-31 18:49:06,919 INFO     pid:599898 util.util:236:enumerateWithEstimate E2 Validation     8/27, done at 2022-08-31 18:49:16, 0:00:12\n",
      "2022-08-31 18:49:10,177 INFO     pid:599898 util.util:236:enumerateWithEstimate E2 Validation    16/27, done at 2022-08-31 18:49:14, 0:00:10\n",
      "2022-08-31 18:49:13,315 WARNING  pid:599898 util.util:249:enumerateWithEstimate E2 Validation  ----/27, done at 2022-08-31 18:49:13\n",
      "2022-08-31 18:49:17,449 INFO     pid:599898 p2ch12.training:304:logMetrics E2 LunaTrainingApp\n",
      "2022-08-31 18:49:17,453 INFO     pid:599898 p2ch12.training:341:logMetrics E2 val      0.3028 loss,  87.7% correct, 0.0168 precision, 0.8456 recall, 0.0329 f1 score\n",
      "2022-08-31 18:49:17,454 INFO     pid:599898 p2ch12.training:353:logMetrics E2 val_neg  0.3027 loss,  87.7% correct (48228 of 54971)\n",
      "2022-08-31 18:49:17,454 INFO     pid:599898 p2ch12.training:364:logMetrics E2 val_pos  0.3443 loss,  84.6% correct (115 of 136)\n",
      "2022-08-31 18:49:17,548 INFO     pid:599898 nb:009:run Finished: p2ch12.training.LunaTrainingApp.['--num-workers=4', '--epochs=2', '--batch-size=512', '--balanced', '--augment-rotate', 'rotate']).main()\n"
     ]
    }
   ],
   "source": [
    "run('p2ch12.training.LunaTrainingApp', f'--epochs={experiment_epochs}','--batch-size=512', '--balanced', '--augment-rotate', 'rotate')"
   ]
  },
  {
   "cell_type": "code",
   "execution_count": 10,
   "metadata": {},
   "outputs": [
    {
     "name": "stderr",
     "output_type": "stream",
     "text": [
      "2022-08-31 18:49:17,722 INFO     pid:599898 nb:004:run Running: p2ch12.training.LunaTrainingApp(['--num-workers=4', '--epochs=2', '--batch-size=512', '--balanced', '--augment-noise', 'noise']).main()\n",
      "2022-08-31 18:49:17,734 INFO     pid:599898 p2ch12.training:127:initModel Using CUDA; 4 devices.\n",
      "2022-08-31 18:49:17,737 INFO     pid:599898 p2ch12.training:188:main Starting LunaTrainingApp, Namespace(augment_flip=False, augment_noise=True, augment_offset=False, augment_rotate=False, augment_scale=False, augmented=False, balanced=True, batch_size=512, comment='noise', epochs=2, num_workers=4, tb_prefix='p2ch12')\n",
      "2022-08-31 18:49:18,521 INFO     pid:599898 p2ch12.dsets:267:__init__ <p2ch12.dsets.LunaDataset object at 0x7f3a00dc2dc0>: 495958 training samples, 494743 neg, 1215 pos, 1:1 ratio\n",
      "2022-08-31 18:49:18,616 INFO     pid:599898 p2ch12.dsets:267:__init__ <p2ch12.dsets.LunaDataset object at 0x7f3aa04766d0>: 55107 validation samples, 54971 neg, 136 pos, unbalanced ratio\n",
      "2022-08-31 18:49:18,617 INFO     pid:599898 p2ch12.training:195:main Epoch 1 of 2, 98/27 batches of size 512*4\n",
      "2022-08-31 18:49:19,196 WARNING  pid:599898 util.util:219:enumerateWithEstimate E1 Training ----/98, starting\n",
      "2022-08-31 18:51:28,957 INFO     pid:599898 util.util:236:enumerateWithEstimate E1 Training    8/98, done at 2022-08-31 19:16:39, 0:26:35\n",
      "2022-08-31 18:52:55,383 INFO     pid:599898 util.util:236:enumerateWithEstimate E1 Training   16/98, done at 2022-08-31 19:10:42, 0:20:38\n",
      "2022-08-31 18:55:47,994 INFO     pid:599898 util.util:236:enumerateWithEstimate E1 Training   32/98, done at 2022-08-31 19:08:38, 0:18:34\n",
      "2022-08-31 19:01:50,609 INFO     pid:599898 util.util:236:enumerateWithEstimate E1 Training   64/98, done at 2022-08-31 19:08:12, 0:18:08\n",
      "2022-08-31 19:07:56,941 WARNING  pid:599898 util.util:249:enumerateWithEstimate E1 Training ----/98, done at 2022-08-31 19:07:56\n",
      "2022-08-31 19:07:58,923 INFO     pid:599898 p2ch12.training:304:logMetrics E1 LunaTrainingApp\n",
      "2022-08-31 19:07:58,931 INFO     pid:599898 p2ch12.training:341:logMetrics E1 trn      0.7018 loss,  50.1% correct, 0.5015 precision, 0.3625 recall, 0.4209 f1 score\n",
      "2022-08-31 19:07:58,932 INFO     pid:599898 p2ch12.training:353:logMetrics E1 trn_neg  0.7020 loss,  64.0% correct (63964 of 100000)\n",
      "2022-08-31 19:07:58,933 INFO     pid:599898 p2ch12.training:364:logMetrics E1 trn_pos  0.7016 loss,  36.3% correct (36255 of 100000)\n",
      "2022-08-31 19:07:59,001 WARNING  pid:599898 util.util:219:enumerateWithEstimate E1 Validation  ----/27, starting\n",
      "2022-08-31 19:08:05,271 INFO     pid:599898 util.util:236:enumerateWithEstimate E1 Validation     8/27, done at 2022-08-31 19:08:16, 0:00:14\n",
      "2022-08-31 19:08:08,373 INFO     pid:599898 util.util:236:enumerateWithEstimate E1 Validation    16/27, done at 2022-08-31 19:08:13, 0:00:11\n",
      "2022-08-31 19:08:10,957 WARNING  pid:599898 util.util:249:enumerateWithEstimate E1 Validation  ----/27, done at 2022-08-31 19:08:10\n",
      "2022-08-31 19:08:15,771 INFO     pid:599898 p2ch12.training:304:logMetrics E1 LunaTrainingApp\n",
      "2022-08-31 19:08:15,774 INFO     pid:599898 p2ch12.training:341:logMetrics E1 val      0.6699 loss,  99.5% correct, 0.0000 precision, 0.0000 recall, nan f1 score\n",
      "2022-08-31 19:08:15,775 INFO     pid:599898 p2ch12.training:353:logMetrics E1 val_neg  0.6698 loss,  99.8% correct (54857 of 54971)\n",
      "2022-08-31 19:08:15,775 INFO     pid:599898 p2ch12.training:364:logMetrics E1 val_pos  0.7165 loss,   0.0% correct (0 of 136)\n",
      "2022-08-31 19:08:15,808 INFO     pid:599898 p2ch12.training:195:main Epoch 2 of 2, 98/27 batches of size 512*4\n",
      "2022-08-31 19:08:16,162 WARNING  pid:599898 util.util:219:enumerateWithEstimate E2 Training ----/98, starting\n",
      "2022-08-31 19:10:24,235 INFO     pid:599898 util.util:236:enumerateWithEstimate E2 Training    8/98, done at 2022-08-31 19:34:55, 0:25:53\n",
      "2022-08-31 19:11:48,261 INFO     pid:599898 util.util:236:enumerateWithEstimate E2 Training   16/98, done at 2022-08-31 19:29:06, 0:20:05\n",
      "2022-08-31 19:14:35,056 INFO     pid:599898 util.util:236:enumerateWithEstimate E2 Training   32/98, done at 2022-08-31 19:27:02, 0:18:00\n",
      "2022-08-31 19:20:29,791 INFO     pid:599898 util.util:236:enumerateWithEstimate E2 Training   64/98, done at 2022-08-31 19:26:42, 0:17:40\n",
      "2022-08-31 19:26:28,738 WARNING  pid:599898 util.util:249:enumerateWithEstimate E2 Training ----/98, done at 2022-08-31 19:26:28\n",
      "2022-08-31 19:26:30,746 INFO     pid:599898 p2ch12.training:304:logMetrics E2 LunaTrainingApp\n",
      "2022-08-31 19:26:30,753 INFO     pid:599898 p2ch12.training:341:logMetrics E2 trn      0.6842 loss,  55.1% correct, 0.5478 precision, 0.5790 recall, 0.5630 f1 score\n",
      "2022-08-31 19:26:30,754 INFO     pid:599898 p2ch12.training:353:logMetrics E2 trn_neg  0.6955 loss,  52.2% correct (52206 of 100000)\n",
      "2022-08-31 19:26:30,755 INFO     pid:599898 p2ch12.training:364:logMetrics E2 trn_pos  0.6730 loss,  57.9% correct (57900 of 100000)\n",
      "2022-08-31 19:26:30,817 WARNING  pid:599898 util.util:219:enumerateWithEstimate E2 Validation  ----/27, starting\n",
      "2022-08-31 19:26:36,397 INFO     pid:599898 util.util:236:enumerateWithEstimate E2 Validation     8/27, done at 2022-08-31 19:26:44, 0:00:10\n",
      "2022-08-31 19:26:39,519 INFO     pid:599898 util.util:236:enumerateWithEstimate E2 Validation    16/27, done at 2022-08-31 19:26:43, 0:00:09\n",
      "2022-08-31 19:26:42,535 WARNING  pid:599898 util.util:249:enumerateWithEstimate E2 Validation  ----/27, done at 2022-08-31 19:26:42\n",
      "2022-08-31 19:26:47,619 INFO     pid:599898 p2ch12.training:304:logMetrics E2 LunaTrainingApp\n",
      "2022-08-31 19:26:47,622 INFO     pid:599898 p2ch12.training:341:logMetrics E2 val      0.7015 loss,  55.3% correct, 0.0037 precision, 0.6765 recall, 0.0074 f1 score\n",
      "2022-08-31 19:26:47,622 INFO     pid:599898 p2ch12.training:353:logMetrics E2 val_neg  0.7016 loss,  55.3% correct (30395 of 54971)\n",
      "2022-08-31 19:26:47,623 INFO     pid:599898 p2ch12.training:364:logMetrics E2 val_pos  0.6377 loss,  67.6% correct (92 of 136)\n",
      "2022-08-31 19:26:47,712 INFO     pid:599898 nb:009:run Finished: p2ch12.training.LunaTrainingApp.['--num-workers=4', '--epochs=2', '--batch-size=512', '--balanced', '--augment-noise', 'noise']).main()\n"
     ]
    }
   ],
   "source": [
    "run('p2ch12.training.LunaTrainingApp', f'--epochs={experiment_epochs}', '--batch-size=512','--balanced', '--augment-noise', 'noise')"
   ]
  },
  {
   "cell_type": "code",
   "execution_count": 11,
   "metadata": {},
   "outputs": [
    {
     "name": "stderr",
     "output_type": "stream",
     "text": [
      "2022-08-31 19:26:48,038 INFO     pid:599898 nb:004:run Running: p2ch12.training.LunaTrainingApp(['--num-workers=4', '--epochs=2', '--batch-size=512', '--balanced', '--augmented', 'fully-augmented']).main()\n",
      "2022-08-31 19:26:48,048 INFO     pid:599898 p2ch12.training:127:initModel Using CUDA; 4 devices.\n",
      "2022-08-31 19:26:48,051 INFO     pid:599898 p2ch12.training:188:main Starting LunaTrainingApp, Namespace(augment_flip=False, augment_noise=False, augment_offset=False, augment_rotate=False, augment_scale=False, augmented=True, balanced=True, batch_size=512, comment='fully-augmented', epochs=2, num_workers=4, tb_prefix='p2ch12')\n",
      "2022-08-31 19:26:48,733 INFO     pid:599898 p2ch12.dsets:267:__init__ <p2ch12.dsets.LunaDataset object at 0x7f3a00fa4be0>: 495958 training samples, 494743 neg, 1215 pos, 1:1 ratio\n",
      "2022-08-31 19:26:48,812 INFO     pid:599898 p2ch12.dsets:267:__init__ <p2ch12.dsets.LunaDataset object at 0x7f3a0296e7f0>: 55107 validation samples, 54971 neg, 136 pos, unbalanced ratio\n",
      "2022-08-31 19:26:48,813 INFO     pid:599898 p2ch12.training:195:main Epoch 1 of 2, 98/27 batches of size 512*4\n",
      "2022-08-31 19:26:49,323 WARNING  pid:599898 util.util:219:enumerateWithEstimate E1 Training ----/98, starting\n",
      "2022-08-31 19:28:55,611 INFO     pid:599898 util.util:236:enumerateWithEstimate E1 Training    8/98, done at 2022-08-31 19:53:07, 0:25:33\n",
      "2022-08-31 19:30:24,861 INFO     pid:599898 util.util:236:enumerateWithEstimate E1 Training   16/98, done at 2022-08-31 19:48:09, 0:20:35\n",
      "2022-08-31 19:33:22,061 INFO     pid:599898 util.util:236:enumerateWithEstimate E1 Training   32/98, done at 2022-08-31 19:46:22, 0:18:48\n",
      "2022-08-31 19:39:27,599 INFO     pid:599898 util.util:236:enumerateWithEstimate E1 Training   64/98, done at 2022-08-31 19:45:53, 0:18:19\n",
      "2022-08-31 19:45:27,602 WARNING  pid:599898 util.util:249:enumerateWithEstimate E1 Training ----/98, done at 2022-08-31 19:45:27\n",
      "2022-08-31 19:45:29,614 INFO     pid:599898 p2ch12.training:304:logMetrics E1 LunaTrainingApp\n",
      "2022-08-31 19:45:29,620 INFO     pid:599898 p2ch12.training:341:logMetrics E1 trn      0.7794 loss,  50.0% correct, 0.4995 precision, 0.5075 recall, 0.5035 f1 score\n",
      "2022-08-31 19:45:29,621 INFO     pid:599898 p2ch12.training:353:logMetrics E1 trn_neg  0.8181 loss,  49.2% correct (49156 of 100000)\n",
      "2022-08-31 19:45:29,622 INFO     pid:599898 p2ch12.training:364:logMetrics E1 trn_pos  0.7407 loss,  50.7% correct (50749 of 100000)\n",
      "2022-08-31 19:45:29,685 WARNING  pid:599898 util.util:219:enumerateWithEstimate E1 Validation  ----/27, starting\n",
      "2022-08-31 19:45:35,772 INFO     pid:599898 util.util:236:enumerateWithEstimate E1 Validation     8/27, done at 2022-08-31 19:45:46, 0:00:14\n",
      "2022-08-31 19:45:38,538 INFO     pid:599898 util.util:236:enumerateWithEstimate E1 Validation    16/27, done at 2022-08-31 19:45:43, 0:00:10\n",
      "2022-08-31 19:45:42,359 WARNING  pid:599898 util.util:249:enumerateWithEstimate E1 Validation  ----/27, done at 2022-08-31 19:45:42\n",
      "2022-08-31 19:45:46,016 INFO     pid:599898 p2ch12.training:304:logMetrics E1 LunaTrainingApp\n",
      "/home/media/data1/DataAnalysis/GitHub_Active/DL_with_pytorch/p2ch12/training.py:334: RuntimeWarning: invalid value encountered in divide\n",
      "  truePos_count / np.float32(truePos_count + falsePos_count)\n",
      "2022-08-31 19:45:46,019 INFO     pid:599898 p2ch12.training:341:logMetrics E1 val      0.5184 loss,  99.8% correct, nan precision, 0.0000 recall, nan f1 score\n",
      "2022-08-31 19:45:46,020 INFO     pid:599898 p2ch12.training:353:logMetrics E1 val_neg  0.5174 loss, 100.0% correct (54971 of 54971)\n",
      "2022-08-31 19:45:46,021 INFO     pid:599898 p2ch12.training:364:logMetrics E1 val_pos  0.9065 loss,   0.0% correct (0 of 136)\n",
      "2022-08-31 19:45:46,053 INFO     pid:599898 p2ch12.training:195:main Epoch 2 of 2, 98/27 batches of size 512*4\n",
      "2022-08-31 19:45:46,454 WARNING  pid:599898 util.util:219:enumerateWithEstimate E2 Training ----/98, starting\n",
      "2022-08-31 19:47:51,945 INFO     pid:599898 util.util:236:enumerateWithEstimate E2 Training    8/98, done at 2022-08-31 20:11:37, 0:25:05\n",
      "2022-08-31 19:49:16,861 INFO     pid:599898 util.util:236:enumerateWithEstimate E2 Training   16/98, done at 2022-08-31 20:06:25, 0:19:53\n",
      "2022-08-31 19:52:05,885 INFO     pid:599898 util.util:236:enumerateWithEstimate E2 Training   32/98, done at 2022-08-31 20:04:34, 0:18:02\n",
      "2022-08-31 19:58:00,753 INFO     pid:599898 util.util:236:enumerateWithEstimate E2 Training   64/98, done at 2022-08-31 20:04:13, 0:17:41\n",
      "2022-08-31 20:04:19,935 WARNING  pid:599898 util.util:249:enumerateWithEstimate E2 Training ----/98, done at 2022-08-31 20:04:19\n",
      "2022-08-31 20:04:20,624 INFO     pid:599898 p2ch12.training:304:logMetrics E2 LunaTrainingApp\n",
      "2022-08-31 20:04:20,631 INFO     pid:599898 p2ch12.training:341:logMetrics E2 trn      0.6981 loss,  50.0% correct, 0.5003 precision, 0.4956 recall, 0.4979 f1 score\n",
      "2022-08-31 20:04:20,632 INFO     pid:599898 p2ch12.training:353:logMetrics E2 trn_neg  0.6952 loss,  50.5% correct (50500 of 100000)\n",
      "2022-08-31 20:04:20,633 INFO     pid:599898 p2ch12.training:364:logMetrics E2 trn_pos  0.7010 loss,  49.6% correct (49560 of 100000)\n",
      "2022-08-31 20:04:20,695 WARNING  pid:599898 util.util:219:enumerateWithEstimate E2 Validation  ----/27, starting\n",
      "2022-08-31 20:04:26,975 INFO     pid:599898 util.util:236:enumerateWithEstimate E2 Validation     8/27, done at 2022-08-31 20:04:37, 0:00:13\n",
      "2022-08-31 20:04:29,983 INFO     pid:599898 util.util:236:enumerateWithEstimate E2 Validation    16/27, done at 2022-08-31 20:04:34, 0:00:10\n",
      "2022-08-31 20:04:32,666 WARNING  pid:599898 util.util:249:enumerateWithEstimate E2 Validation  ----/27, done at 2022-08-31 20:04:32\n",
      "2022-08-31 20:04:37,462 INFO     pid:599898 p2ch12.training:304:logMetrics E2 LunaTrainingApp\n",
      "2022-08-31 20:04:37,465 INFO     pid:599898 p2ch12.training:341:logMetrics E2 val      0.6383 loss,  99.7% correct, 0.0000 precision, 0.0000 recall, nan f1 score\n",
      "2022-08-31 20:04:37,466 INFO     pid:599898 p2ch12.training:353:logMetrics E2 val_neg  0.6380 loss, 100.0% correct (54964 of 54971)\n",
      "2022-08-31 20:04:37,466 INFO     pid:599898 p2ch12.training:364:logMetrics E2 val_pos  0.7509 loss,   0.0% correct (0 of 136)\n",
      "2022-08-31 20:04:37,574 INFO     pid:599898 nb:009:run Finished: p2ch12.training.LunaTrainingApp.['--num-workers=4', '--epochs=2', '--batch-size=512', '--balanced', '--augmented', 'fully-augmented']).main()\n"
     ]
    }
   ],
   "source": [
    "run('p2ch12.training.LunaTrainingApp', f'--epochs={training_epochs}', '--batch-size=512', '--balanced', '--augmented', 'fully-augmented')"
   ]
  },
  {
   "cell_type": "markdown",
   "metadata": {},
   "source": [
    "## Chapter 13"
   ]
  },
  {
   "cell_type": "code",
   "execution_count": null,
   "metadata": {},
   "outputs": [],
   "source": [
    "run('p2ch13.prepcache.LunaPrepCacheApp')"
   ]
  },
  {
   "cell_type": "code",
   "execution_count": null,
   "metadata": {},
   "outputs": [],
   "source": [
    "run('p2ch13.training.LunaTrainingApp', f'--epochs={final_epochs}', '--balanced', '--augmented', 'final-cls')"
   ]
  },
  {
   "cell_type": "code",
   "execution_count": null,
   "metadata": {
    "scrolled": true
   },
   "outputs": [],
   "source": [
    "run('p2ch13.train_seg.LunaTrainingApp', f'--epochs={seg_epochs}', '--augmented', 'final-seg')"
   ]
  },
  {
   "cell_type": "markdown",
   "metadata": {},
   "source": [
    "## Chapter 14"
   ]
  },
  {
   "cell_type": "code",
   "execution_count": null,
   "metadata": {},
   "outputs": [],
   "source": [
    "run('p2ch14.prepcache.LunaPrepCacheApp')"
   ]
  },
  {
   "cell_type": "code",
   "execution_count": null,
   "metadata": {
    "scrolled": true
   },
   "outputs": [],
   "source": [
    "run('p2ch14.training.ClassificationTrainingApp', f'--epochs=100', 'nodule-nonnodule')"
   ]
  },
  {
   "cell_type": "code",
   "execution_count": null,
   "metadata": {
    "scrolled": false
   },
   "outputs": [],
   "source": [
    "run('p2ch14.training.ClassificationTrainingApp', f'--epochs=40', '--malignant', '--dataset=MalignantLunaDataset',\n",
    "    '--finetune=''data/part2/models/cls_2020-02-06_14.16.55_final-nodule-nonnodule.best.state',\n",
    "    'finetune-head')\n"
   ]
  },
  {
   "cell_type": "code",
   "execution_count": null,
   "metadata": {
    "scrolled": false
   },
   "outputs": [],
   "source": [
    "run('p2ch14.training.ClassificationTrainingApp', f'--epochs=40', '--malignant', '--dataset=MalignantLunaDataset',\n",
    "    '--finetune=''data/part2/models/cls_2020-02-06_14.16.55_final-nodule-nonnodule.best.state',\n",
    "    '--finetune-depth=2',\n",
    "    'finetune-depth2')\n"
   ]
  },
  {
   "cell_type": "code",
   "execution_count": null,
   "metadata": {},
   "outputs": [],
   "source": [
    "run('p2ch14.nodule_analysis.NoduleAnalysisApp', '--run-validation')"
   ]
  },
  {
   "cell_type": "code",
   "execution_count": null,
   "metadata": {},
   "outputs": [],
   "source": [
    "run('p2ch14.nodule_analysis.NoduleAnalysisApp', '--run-validation', '--malignancy-path')"
   ]
  },
  {
   "cell_type": "code",
   "execution_count": null,
   "metadata": {},
   "outputs": [],
   "source": []
  },
  {
   "cell_type": "code",
   "execution_count": null,
   "metadata": {},
   "outputs": [],
   "source": []
  }
 ],
 "metadata": {
  "kernelspec": {
   "display_name": "Python 3.8.13 ('th1p12')",
   "language": "python",
   "name": "python3"
  },
  "language_info": {
   "codemirror_mode": {
    "name": "ipython",
    "version": 3
   },
   "file_extension": ".py",
   "mimetype": "text/x-python",
   "name": "python",
   "nbconvert_exporter": "python",
   "pygments_lexer": "ipython3",
   "version": "3.8.13"
  },
  "vscode": {
   "interpreter": {
    "hash": "4c5fa1e0871d08a1c3464c030a8ba0f2e416a0fd3ff5bd2c75d5d2c52be85c3d"
   }
  }
 },
 "nbformat": 4,
 "nbformat_minor": 2
}
