{
 "cells": [
  {
   "cell_type": "code",
   "execution_count": 1,
   "metadata": {},
   "outputs": [
    {
     "data": {
      "text/plain": [
       "<torch._C.Generator at 0x7f6cefc50c90>"
      ]
     },
     "execution_count": 1,
     "metadata": {},
     "output_type": "execute_result"
    }
   ],
   "source": [
    "%matplotlib inline\n",
    "from matplotlib import pyplot as plt\n",
    "import numpy as np\n",
    "import torch\n",
    "\n",
    "torch.set_printoptions(edgeitems=2)\n",
    "torch.manual_seed(123)"
   ]
  },
  {
   "cell_type": "code",
   "execution_count": 2,
   "metadata": {},
   "outputs": [],
   "source": [
    "class_names = ['airplane','automobile','bird','cat','deer',\n",
    "               'dog','frog','horse','ship','truck'] # here, 0 airplane, 2 bird"
   ]
  },
  {
   "cell_type": "code",
   "execution_count": 3,
   "metadata": {},
   "outputs": [],
   "source": [
    "from torchvision import datasets, transforms\n",
    "data_path = '/home/hyunsu/Documents/data_ML/cifar10/'\n",
    "cifar10 = datasets.CIFAR10(\n",
    "    data_path, train=True, download=False,\n",
    "    transform=transforms.Compose([\n",
    "        transforms.ToTensor(),\n",
    "        transforms.Normalize((0.4915, 0.4823, 0.4468),\n",
    "                             (0.2470, 0.2435, 0.2616))\n",
    "    ]))"
   ]
  },
  {
   "cell_type": "code",
   "execution_count": 4,
   "metadata": {},
   "outputs": [],
   "source": [
    "cifar10_val = datasets.CIFAR10(\n",
    "    data_path, train=False, download=False,\n",
    "    transform=transforms.Compose([\n",
    "        transforms.ToTensor(),\n",
    "        transforms.Normalize((0.4915, 0.4823, 0.4468),\n",
    "                             (0.2470, 0.2435, 0.2616))\n",
    "    ]))"
   ]
  },
  {
   "cell_type": "code",
   "execution_count": 5,
   "metadata": {},
   "outputs": [],
   "source": [
    "label_map = {0: 0, 2: 1}\n",
    "class_names = ['airplane', 'bird']\n",
    "cifar2 = [(img, label_map[label]) # make tuple\n",
    "          for img, label in cifar10 \n",
    "          if label in [0, 2]] # do if airplane or bird\n",
    "cifar2_val = [(img, label_map[label])\n",
    "              for img, label in cifar10_val\n",
    "              if label in [0, 2]]"
   ]
  },
  {
   "cell_type": "code",
   "execution_count": 6,
   "metadata": {},
   "outputs": [],
   "source": [
    "import torch.nn as nn\n",
    "\n",
    "n_out = 2\n",
    "\n",
    "model = nn.Sequential(\n",
    "            nn.Linear(\n",
    "                3072,  # 32 x 32 x 3 feature\n",
    "                512,   # <2>\n",
    "            ),\n",
    "            nn.Tanh(),\n",
    "            nn.Linear(\n",
    "                512,   # <2>\n",
    "                n_out, # <3>\n",
    "            )\n",
    "        )"
   ]
  },
  {
   "cell_type": "code",
   "execution_count": 7,
   "metadata": {},
   "outputs": [],
   "source": [
    "def softmax(x):\n",
    "    return torch.exp(x) / torch.exp(x).sum()"
   ]
  },
  {
   "cell_type": "code",
   "execution_count": 8,
   "metadata": {},
   "outputs": [
    {
     "data": {
      "text/plain": [
       "tensor([0.0900, 0.2447, 0.6652])"
      ]
     },
     "execution_count": 8,
     "metadata": {},
     "output_type": "execute_result"
    }
   ],
   "source": [
    "x = torch.tensor([1.0, 2.0, 3.0])\n",
    "\n",
    "softmax(x)"
   ]
  },
  {
   "cell_type": "code",
   "execution_count": 9,
   "metadata": {},
   "outputs": [
    {
     "data": {
      "text/plain": [
       "tensor(1.)"
      ]
     },
     "execution_count": 9,
     "metadata": {},
     "output_type": "execute_result"
    }
   ],
   "source": [
    "softmax(x).sum()"
   ]
  },
  {
   "cell_type": "code",
   "execution_count": 10,
   "metadata": {},
   "outputs": [
    {
     "data": {
      "text/plain": [
       "(tensor([[0.0900, 0.2447, 0.6652],\n",
       "         [0.0900, 0.2447, 0.6652]]),\n",
       " tensor([2., 2.]))"
      ]
     },
     "execution_count": 10,
     "metadata": {},
     "output_type": "execute_result"
    }
   ],
   "source": [
    "softmax = nn.Softmax(dim=1)\n",
    "\n",
    "x = torch.tensor([[1.0, 2.0, 3.0],\n",
    "                  [1.0, 2.0, 3.0]]) # 2 x 3\n",
    "\n",
    "softmax(x), x.mean(dim=1) # to understand the dimension\n"
   ]
  },
  {
   "cell_type": "code",
   "execution_count": 11,
   "metadata": {},
   "outputs": [],
   "source": [
    "model = nn.Sequential(\n",
    "            nn.Linear(3072, 512),\n",
    "            nn.Tanh(),\n",
    "            nn.Linear(512, 2),\n",
    "            nn.Softmax(dim=1))"
   ]
  },
  {
   "cell_type": "code",
   "execution_count": 12,
   "metadata": {},
   "outputs": [
    {
     "name": "stderr",
     "output_type": "stream",
     "text": [
      "Clipping input data to the valid range for imshow with RGB data ([0..1] for floats or [0..255] for integers).\n"
     ]
    },
    {
     "data": {
      "image/png": "[encoded data removed]",
      "text/plain": [
       "<Figure size 432x288 with 1 Axes>"
      ]
     },
     "metadata": {
      "needs_background": "light"
     },
     "output_type": "display_data"
    }
   ],
   "source": [
    "img, _ = cifar2[0]\n",
    "\n",
    "plt.imshow(img.permute(1, 2, 0))\n",
    "plt.show()"
   ]
  },
  {
   "cell_type": "code",
   "execution_count": 13,
   "metadata": {},
   "outputs": [
    {
     "data": {
      "text/plain": [
       "torch.Size([1, 3072])"
      ]
     },
     "execution_count": 13,
     "metadata": {},
     "output_type": "execute_result"
    }
   ],
   "source": [
    "img_batch = img.view(-1).unsqueeze(0)\n",
    "img_batch.shape"
   ]
  },
  {
   "cell_type": "code",
   "execution_count": 14,
   "metadata": {},
   "outputs": [
    {
     "data": {
      "text/plain": [
       "tensor([[0.4784, 0.5216]], grad_fn=<SoftmaxBackward0>)"
      ]
     },
     "execution_count": 14,
     "metadata": {},
     "output_type": "execute_result"
    }
   ],
   "source": [
    "out = model(img_batch)\n",
    "out"
   ]
  },
  {
   "cell_type": "code",
   "execution_count": 15,
   "metadata": {},
   "outputs": [
    {
     "data": {
      "text/plain": [
       "tensor([1])"
      ]
     },
     "execution_count": 15,
     "metadata": {},
     "output_type": "execute_result"
    }
   ],
   "source": [
    "_, index = torch.max(out, dim=1)\n",
    "\n",
    "index"
   ]
  },
  {
   "cell_type": "code",
   "execution_count": 16,
   "metadata": {},
   "outputs": [
    {
     "data": {
      "text/plain": [
       "tensor([[1., 0.],\n",
       "        [1., 0.],\n",
       "        [0., 1.],\n",
       "        [0., 1.]])"
      ]
     },
     "execution_count": 16,
     "metadata": {},
     "output_type": "execute_result"
    }
   ],
   "source": [
    "out = torch.tensor([\n",
    "    [0.6, 0.4],\n",
    "    [0.9, 0.1],\n",
    "    [0.3, 0.7],\n",
    "    [0.2, 0.8],\n",
    "])\n",
    "class_index = torch.tensor([0, 0, 1, 1]).unsqueeze(1)\n",
    "\n",
    "truth = torch.zeros((4,2)) # one-hot encoding\n",
    "truth.scatter_(dim=1, index=class_index, value=1.0)\n",
    "truth"
   ]
  },
  {
   "cell_type": "code",
   "execution_count": 17,
   "metadata": {},
   "outputs": [
    {
     "data": {
      "text/plain": [
       "tensor(0.1500)"
      ]
     },
     "execution_count": 17,
     "metadata": {},
     "output_type": "execute_result"
    }
   ],
   "source": [
    "def mse(out):\n",
    "    return ((out - truth) ** 2).sum(dim=1).mean()\n",
    "mse(out)"
   ]
  },
  {
   "cell_type": "code",
   "execution_count": 18,
   "metadata": {},
   "outputs": [
    {
     "data": {
      "text/plain": [
       "tensor([[0.6000],\n",
       "        [0.9000],\n",
       "        [0.7000],\n",
       "        [0.8000]])"
      ]
     },
     "execution_count": 18,
     "metadata": {},
     "output_type": "execute_result"
    }
   ],
   "source": [
    "out.gather(dim=1, index=class_index)"
   ]
  },
  {
   "cell_type": "code",
   "execution_count": 19,
   "metadata": {},
   "outputs": [
    {
     "data": {
      "text/plain": [
       "tensor([0.3024])"
      ]
     },
     "execution_count": 19,
     "metadata": {},
     "output_type": "execute_result"
    }
   ],
   "source": [
    "def likelihood(out):\n",
    "    prod = 1.0\n",
    "    for x in out.gather(dim=1, index=class_index):\n",
    "        prod *= x\n",
    "    return prod\n",
    "\n",
    "likelihood(out)"
   ]
  },
  {
   "cell_type": "code",
   "execution_count": 20,
   "metadata": {},
   "outputs": [
    {
     "data": {
      "text/plain": [
       "tensor([1.1960])"
      ]
     },
     "execution_count": 20,
     "metadata": {},
     "output_type": "execute_result"
    }
   ],
   "source": [
    "def neg_log_likelihood(out):\n",
    "    return -likelihood(out).log()\n",
    "\n",
    "neg_log_likelihood(out)"
   ]
  },
  {
   "cell_type": "code",
   "execution_count": 21,
   "metadata": {},
   "outputs": [
    {
     "data": {
      "text/plain": [
       "tensor([0.0750, 0.1500, 0.2500, 0.4750])"
      ]
     },
     "execution_count": 21,
     "metadata": {},
     "output_type": "execute_result"
    }
   ],
   "source": [
    "out0 = out.clone().detach()\n",
    "out0[0] = torch.tensor([0.9, 0.1]) # more right\n",
    "\n",
    "out2 = out.clone().detach()\n",
    "out2[0] = torch.tensor([0.4, 0.6]) # slightly wrong\n",
    "\n",
    "out3 = out.clone().detach()\n",
    "out3[0] = torch.tensor([0.1, 0.9]) # very wrong\n",
    "\n",
    "mse_comparison = torch.tensor([mse(o) for o in [out0, out, out2, out3]])\n",
    "mse_comparison"
   ]
  },
  {
   "cell_type": "code",
   "execution_count": 22,
   "metadata": {},
   "outputs": [
    {
     "data": {
      "text/plain": [
       "tensor([-50.0000,   0.0000,  66.6667, 216.6667])"
      ]
     },
     "execution_count": 22,
     "metadata": {},
     "output_type": "execute_result"
    }
   ],
   "source": [
    "((mse_comparison / mse_comparison[1]) - 1) * 100"
   ]
  },
  {
   "cell_type": "code",
   "execution_count": 23,
   "metadata": {},
   "outputs": [
    {
     "data": {
      "text/plain": [
       "tensor([0.7905, 1.1960, 1.6015, 2.9878])"
      ]
     },
     "execution_count": 23,
     "metadata": {},
     "output_type": "execute_result"
    }
   ],
   "source": [
    "nll_comparison = torch.tensor([neg_log_likelihood(o) \n",
    "                               for o in [out0, out, out2, out3]])\n",
    "nll_comparison"
   ]
  },
  {
   "cell_type": "code",
   "execution_count": 24,
   "metadata": {},
   "outputs": [
    {
     "data": {
      "text/plain": [
       "tensor([-33.9016,   0.0000,  33.9016, 149.8121])"
      ]
     },
     "execution_count": 24,
     "metadata": {},
     "output_type": "execute_result"
    }
   ],
   "source": [
    "((nll_comparison / nll_comparison[1]) - 1) * 100"
   ]
  },
  {
   "cell_type": "code",
   "execution_count": 25,
   "metadata": {},
   "outputs": [
    {
     "data": {
      "text/plain": [
       "(tensor([[0., 1.]]), tensor([[-104.,    0.]]))"
      ]
     },
     "execution_count": 25,
     "metadata": {},
     "output_type": "execute_result"
    }
   ],
   "source": [
    "softmax = nn.Softmax(dim=1)\n",
    "\n",
    "log_softmax = nn.LogSoftmax(dim=1)\n",
    "\n",
    "x = torch.tensor([[0.0, 104.0]])\n",
    "\n",
    "softmax(x), log_softmax(x)"
   ]
  },
  {
   "cell_type": "code",
   "execution_count": 26,
   "metadata": {},
   "outputs": [
    {
     "data": {
      "text/plain": [
       "tensor([[-inf, 0.]])"
      ]
     },
     "execution_count": 26,
     "metadata": {},
     "output_type": "execute_result"
    }
   ],
   "source": [
    "torch.log(softmax(x)) # the reason to use logsoftmax instead of softmax"
   ]
  },
  {
   "cell_type": "code",
   "execution_count": 27,
   "metadata": {},
   "outputs": [
    {
     "data": {
      "text/plain": [
       "tensor([[-104.,    0.]])"
      ]
     },
     "execution_count": 27,
     "metadata": {},
     "output_type": "execute_result"
    }
   ],
   "source": [
    "log_softmax(x)"
   ]
  },
  {
   "cell_type": "code",
   "execution_count": 28,
   "metadata": {},
   "outputs": [
    {
     "data": {
      "text/plain": [
       "tensor([[0., 1.]])"
      ]
     },
     "execution_count": 28,
     "metadata": {},
     "output_type": "execute_result"
    }
   ],
   "source": [
    "torch.exp(log_softmax(x))"
   ]
  },
  {
   "cell_type": "code",
   "execution_count": 29,
   "metadata": {},
   "outputs": [],
   "source": [
    "model = nn.Sequential(\n",
    "            nn.Linear(3072, 512),\n",
    "            nn.Tanh(),\n",
    "            nn.Linear(512, 2),\n",
    "            nn.LogSoftmax(dim=1))"
   ]
  },
  {
   "cell_type": "code",
   "execution_count": 30,
   "metadata": {},
   "outputs": [],
   "source": [
    "loss = nn.NLLLoss()"
   ]
  },
  {
   "cell_type": "code",
   "execution_count": 31,
   "metadata": {},
   "outputs": [
    {
     "data": {
      "text/plain": [
       "tensor(0.5077, grad_fn=<NllLossBackward0>)"
      ]
     },
     "execution_count": 31,
     "metadata": {},
     "output_type": "execute_result"
    }
   ],
   "source": [
    "img, label = cifar2[0]\n",
    "\n",
    "out = model(img.view(-1).unsqueeze(0))\n",
    "\n",
    "loss(out, torch.tensor([label]))"
   ]
  },
  {
   "cell_type": "code",
   "execution_count": 32,
   "metadata": {},
   "outputs": [
    {
     "data": {
      "text/plain": [
       "device(type='cuda')"
      ]
     },
     "execution_count": 32,
     "metadata": {},
     "output_type": "execute_result"
    }
   ],
   "source": [
    "device = torch.device('cuda' if torch.cuda.is_available() else 'cpu')\n"
   ]
  },
  {
   "cell_type": "code",
   "execution_count": 35,
   "metadata": {},
   "outputs": [
    {
     "name": "stdout",
     "output_type": "stream",
     "text": [
      "Epoch: 0, Loss: 6.104034\n",
      "Epoch: 1, Loss: 5.614705\n",
      "Epoch: 2, Loss: 10.030086\n",
      "Epoch: 3, Loss: 4.192981\n",
      "Epoch: 4, Loss: 3.284071\n",
      "Epoch: 5, Loss: 9.248923\n",
      "Epoch: 6, Loss: 5.384418\n",
      "Epoch: 7, Loss: 3.068453\n",
      "Epoch: 8, Loss: 11.755852\n",
      "Epoch: 9, Loss: 10.503537\n",
      "Epoch: 10, Loss: 1.813431\n",
      "Epoch: 11, Loss: 8.145979\n",
      "Epoch: 12, Loss: 7.243825\n",
      "Epoch: 13, Loss: 3.537252\n",
      "Epoch: 14, Loss: 5.244114\n",
      "Epoch: 15, Loss: 7.443619\n",
      "Epoch: 16, Loss: 4.032690\n",
      "Epoch: 17, Loss: 3.282646\n",
      "Epoch: 18, Loss: 7.826687\n",
      "Epoch: 19, Loss: 13.519883\n",
      "Epoch: 20, Loss: 8.205056\n",
      "Epoch: 21, Loss: 12.670047\n",
      "Epoch: 22, Loss: 9.744849\n",
      "Epoch: 23, Loss: 3.434032\n",
      "Epoch: 24, Loss: 11.118172\n",
      "Epoch: 25, Loss: 14.953550\n",
      "Epoch: 26, Loss: 7.084696\n",
      "Epoch: 27, Loss: 20.254307\n",
      "Epoch: 28, Loss: 13.225882\n",
      "Epoch: 29, Loss: 7.669613\n",
      "Epoch: 30, Loss: 12.838577\n",
      "Epoch: 31, Loss: 10.905982\n",
      "Epoch: 32, Loss: 18.076811\n",
      "Epoch: 33, Loss: 12.677045\n",
      "Epoch: 34, Loss: 13.437262\n",
      "Epoch: 35, Loss: 13.721916\n",
      "Epoch: 36, Loss: 10.082571\n",
      "Epoch: 37, Loss: 12.501238\n",
      "Epoch: 38, Loss: 11.160411\n",
      "Epoch: 39, Loss: 12.083444\n",
      "Epoch: 40, Loss: 10.236360\n",
      "Epoch: 41, Loss: 14.577423\n",
      "Epoch: 42, Loss: 20.007145\n",
      "Epoch: 43, Loss: 17.058136\n",
      "Epoch: 44, Loss: 12.887622\n",
      "Epoch: 45, Loss: 17.695026\n",
      "Epoch: 46, Loss: 9.147426\n",
      "Epoch: 47, Loss: 18.391493\n",
      "Epoch: 48, Loss: 8.695483\n",
      "Epoch: 49, Loss: 8.077578\n",
      "Epoch: 50, Loss: 0.903209\n",
      "Epoch: 51, Loss: 8.525837\n",
      "Epoch: 52, Loss: 17.811563\n",
      "Epoch: 53, Loss: 10.995426\n",
      "Epoch: 54, Loss: 15.079213\n",
      "Epoch: 55, Loss: 12.767770\n",
      "Epoch: 56, Loss: 16.936079\n",
      "Epoch: 57, Loss: 14.381650\n",
      "Epoch: 58, Loss: 6.747261\n",
      "Epoch: 59, Loss: 19.978603\n",
      "Epoch: 60, Loss: 12.063923\n",
      "Epoch: 61, Loss: 7.099912\n",
      "Epoch: 62, Loss: 6.812053\n",
      "Epoch: 63, Loss: 7.155506\n",
      "Epoch: 64, Loss: 3.781944\n",
      "Epoch: 65, Loss: 9.709451\n",
      "Epoch: 66, Loss: 15.692888\n",
      "Epoch: 67, Loss: 3.254898\n",
      "Epoch: 68, Loss: 3.791859\n",
      "Epoch: 69, Loss: 12.082941\n",
      "Epoch: 70, Loss: 8.411386\n",
      "Epoch: 71, Loss: 3.688842\n",
      "Epoch: 72, Loss: 8.190401\n",
      "Epoch: 73, Loss: 12.780724\n",
      "Epoch: 74, Loss: 1.593419\n",
      "Epoch: 75, Loss: 1.237834\n",
      "Epoch: 76, Loss: 6.875455\n",
      "Epoch: 77, Loss: 1.914600\n",
      "Epoch: 78, Loss: 10.313355\n",
      "Epoch: 79, Loss: 1.443441\n",
      "Epoch: 80, Loss: 0.043575\n",
      "Epoch: 81, Loss: 9.304488\n",
      "Epoch: 82, Loss: 0.286807\n",
      "Epoch: 83, Loss: 0.003478\n",
      "Epoch: 84, Loss: 6.434938\n",
      "Epoch: 85, Loss: 5.923908\n",
      "Epoch: 86, Loss: 0.038194\n",
      "Epoch: 87, Loss: 4.856761\n",
      "Epoch: 88, Loss: 10.344280\n",
      "Epoch: 89, Loss: 13.984936\n",
      "Epoch: 90, Loss: 0.391330\n",
      "Epoch: 91, Loss: 6.514770\n",
      "Epoch: 92, Loss: 0.392143\n",
      "Epoch: 93, Loss: 2.030744\n",
      "Epoch: 94, Loss: 2.107523\n",
      "Epoch: 95, Loss: 20.176796\n",
      "Epoch: 96, Loss: 3.638741\n",
      "Epoch: 97, Loss: 7.877125\n",
      "Epoch: 98, Loss: 4.838938\n",
      "Epoch: 99, Loss: 2.684534\n"
     ]
    }
   ],
   "source": [
    "import torch\n",
    "import torch.nn as nn\n",
    "import torch.optim as optim\n",
    "\n",
    "model = nn.Sequential(\n",
    "            nn.Linear(3072, 512),\n",
    "            nn.Tanh(),\n",
    "            nn.Linear(512, 2),\n",
    "            nn.LogSoftmax(dim=1)).to(device)\n",
    "\n",
    "learning_rate = 1e-2\n",
    "\n",
    "optimizer = optim.SGD(model.parameters(), lr=learning_rate)\n",
    "\n",
    "loss_fn = nn.NLLLoss()\n",
    "\n",
    "n_epochs = 100\n",
    "\n",
    "for epoch in range(n_epochs):\n",
    "    for img, label in cifar2:\n",
    "        out = model(img.view(-1).unsqueeze(0).to(device))\n",
    "        loss = loss_fn(out, torch.tensor([label]).to(device))\n",
    "                \n",
    "        optimizer.zero_grad()\n",
    "        loss.backward()\n",
    "        optimizer.step()\n",
    "\n",
    "    print(\"Epoch: %d, Loss: %f\" % (epoch, float(loss)))"
   ]
  },
  {
   "cell_type": "code",
   "execution_count": 36,
   "metadata": {},
   "outputs": [],
   "source": [
    "train_loader = torch.utils.data.DataLoader(cifar2, batch_size=64,\n",
    "                                           shuffle=True)"
   ]
  },
  {
   "cell_type": "code",
   "execution_count": 38,
   "metadata": {},
   "outputs": [
    {
     "name": "stdout",
     "output_type": "stream",
     "text": [
      "Epoch: 0, Loss: 0.290652\n",
      "Epoch: 1, Loss: 0.596096\n",
      "Epoch: 2, Loss: 0.288824\n",
      "Epoch: 3, Loss: 0.372863\n",
      "Epoch: 4, Loss: 0.431011\n",
      "Epoch: 5, Loss: 0.509270\n",
      "Epoch: 6, Loss: 0.184279\n",
      "Epoch: 7, Loss: 0.458323\n",
      "Epoch: 8, Loss: 0.434904\n",
      "Epoch: 9, Loss: 0.281615\n",
      "Epoch: 10, Loss: 0.262083\n",
      "Epoch: 11, Loss: 0.378605\n",
      "Epoch: 12, Loss: 0.406189\n",
      "Epoch: 13, Loss: 0.323112\n",
      "Epoch: 14, Loss: 0.353314\n",
      "Epoch: 15, Loss: 0.297496\n",
      "Epoch: 16, Loss: 0.113304\n",
      "Epoch: 17, Loss: 0.233832\n",
      "Epoch: 18, Loss: 0.403771\n",
      "Epoch: 19, Loss: 0.265747\n",
      "Epoch: 20, Loss: 0.110455\n",
      "Epoch: 21, Loss: 0.148265\n",
      "Epoch: 22, Loss: 0.189928\n",
      "Epoch: 23, Loss: 0.356492\n",
      "Epoch: 24, Loss: 0.527282\n",
      "Epoch: 25, Loss: 0.309290\n",
      "Epoch: 26, Loss: 0.438987\n",
      "Epoch: 27, Loss: 0.235336\n",
      "Epoch: 28, Loss: 0.390660\n",
      "Epoch: 29, Loss: 0.052564\n",
      "Epoch: 30, Loss: 0.167443\n",
      "Epoch: 31, Loss: 0.433880\n",
      "Epoch: 32, Loss: 0.192829\n",
      "Epoch: 33, Loss: 0.094194\n",
      "Epoch: 34, Loss: 0.298321\n",
      "Epoch: 35, Loss: 0.147978\n",
      "Epoch: 36, Loss: 0.235584\n",
      "Epoch: 37, Loss: 0.175474\n",
      "Epoch: 38, Loss: 0.176204\n",
      "Epoch: 39, Loss: 0.033435\n",
      "Epoch: 40, Loss: 0.167390\n",
      "Epoch: 41, Loss: 0.129554\n",
      "Epoch: 42, Loss: 0.069714\n",
      "Epoch: 43, Loss: 0.063619\n",
      "Epoch: 44, Loss: 0.164643\n",
      "Epoch: 45, Loss: 0.097733\n",
      "Epoch: 46, Loss: 0.128092\n",
      "Epoch: 47, Loss: 0.194367\n",
      "Epoch: 48, Loss: 0.049673\n",
      "Epoch: 49, Loss: 0.098116\n",
      "Epoch: 50, Loss: 0.216069\n",
      "Epoch: 51, Loss: 0.033803\n",
      "Epoch: 52, Loss: 0.050956\n",
      "Epoch: 53, Loss: 0.036949\n",
      "Epoch: 54, Loss: 0.118608\n",
      "Epoch: 55, Loss: 0.103853\n",
      "Epoch: 56, Loss: 0.066950\n",
      "Epoch: 57, Loss: 0.025243\n",
      "Epoch: 58, Loss: 0.021103\n",
      "Epoch: 59, Loss: 0.055735\n",
      "Epoch: 60, Loss: 0.020789\n",
      "Epoch: 61, Loss: 0.059020\n",
      "Epoch: 62, Loss: 0.049005\n",
      "Epoch: 63, Loss: 0.149845\n",
      "Epoch: 64, Loss: 0.031363\n",
      "Epoch: 65, Loss: 0.042432\n",
      "Epoch: 66, Loss: 0.052077\n",
      "Epoch: 67, Loss: 0.071797\n",
      "Epoch: 68, Loss: 0.032511\n",
      "Epoch: 69, Loss: 0.048798\n",
      "Epoch: 70, Loss: 0.024265\n",
      "Epoch: 71, Loss: 0.070216\n",
      "Epoch: 72, Loss: 0.036854\n",
      "Epoch: 73, Loss: 0.056011\n",
      "Epoch: 74, Loss: 0.063296\n",
      "Epoch: 75, Loss: 0.037141\n",
      "Epoch: 76, Loss: 0.058666\n",
      "Epoch: 77, Loss: 0.022081\n",
      "Epoch: 78, Loss: 0.015367\n",
      "Epoch: 79, Loss: 0.057765\n",
      "Epoch: 80, Loss: 0.076627\n",
      "Epoch: 81, Loss: 0.016357\n",
      "Epoch: 82, Loss: 0.037213\n",
      "Epoch: 83, Loss: 0.026932\n",
      "Epoch: 84, Loss: 0.057462\n",
      "Epoch: 85, Loss: 0.017927\n",
      "Epoch: 86, Loss: 0.022115\n",
      "Epoch: 87, Loss: 0.027282\n",
      "Epoch: 88, Loss: 0.019865\n",
      "Epoch: 89, Loss: 0.024780\n",
      "Epoch: 90, Loss: 0.056465\n",
      "Epoch: 91, Loss: 0.021495\n",
      "Epoch: 92, Loss: 0.011607\n",
      "Epoch: 93, Loss: 0.025417\n",
      "Epoch: 94, Loss: 0.044146\n",
      "Epoch: 95, Loss: 0.011179\n",
      "Epoch: 96, Loss: 0.007331\n",
      "Epoch: 97, Loss: 0.025513\n",
      "Epoch: 98, Loss: 0.026687\n",
      "Epoch: 99, Loss: 0.017964\n"
     ]
    }
   ],
   "source": [
    "import torch\n",
    "import torch.nn as nn\n",
    "import torch.optim as optim\n",
    "\n",
    "train_loader = torch.utils.data.DataLoader(cifar2, batch_size=64,\n",
    "                                           shuffle=True)\n",
    "\n",
    "model = nn.Sequential(\n",
    "            nn.Linear(3072, 128),\n",
    "            nn.Tanh(),\n",
    "            nn.Linear(128, 2),\n",
    "            nn.LogSoftmax(dim=1)).to(device)\n",
    "\n",
    "\n",
    "learning_rate = 1e-2\n",
    "\n",
    "optimizer = optim.SGD(model.parameters(), lr=learning_rate)\n",
    "\n",
    "loss_fn = nn.NLLLoss()\n",
    "\n",
    "n_epochs = 100\n",
    "\n",
    "for epoch in range(n_epochs):\n",
    "    for imgs, labels in train_loader:\n",
    "        outputs = model(imgs.view(imgs.shape[0], -1).to(device))\n",
    "        loss = loss_fn(outputs, labels.to(device))\n",
    "\n",
    "        optimizer.zero_grad()\n",
    "        loss.backward()\n",
    "        optimizer.step()\n",
    "\n",
    "    print(\"Epoch: %d, Loss: %f\" % (epoch, float(loss)))"
   ]
  },
  {
   "cell_type": "code",
   "execution_count": 42,
   "metadata": {},
   "outputs": [
    {
     "name": "stdout",
     "output_type": "stream",
     "text": [
      "Accuracy: 0.999500\n"
     ]
    }
   ],
   "source": [
    "train_loader = torch.utils.data.DataLoader(cifar2, batch_size=64,\n",
    "                                           shuffle=False)\n",
    "\n",
    "correct = 0\n",
    "total = 0\n",
    "\n",
    "with torch.no_grad():\n",
    "    for imgs, labels in train_loader:\n",
    "        outputs = model(imgs.view(imgs.shape[0], -1).to(device))\n",
    "        _, predicted = torch.max(outputs, dim=1)\n",
    "        labels = labels.to(device)\n",
    "        total += labels.shape[0]\n",
    "        correct += int((predicted == labels).sum())\n",
    "        \n",
    "print(\"Accuracy: %f\" % (correct / total))"
   ]
  },
  {
   "cell_type": "code",
   "execution_count": 44,
   "metadata": {},
   "outputs": [
    {
     "name": "stdout",
     "output_type": "stream",
     "text": [
      "Accuracy: 0.811500\n"
     ]
    }
   ],
   "source": [
    "val_loader = torch.utils.data.DataLoader(cifar2_val, batch_size=64,\n",
    "                                         shuffle=False)\n",
    "\n",
    "correct = 0\n",
    "total = 0\n",
    "\n",
    "with torch.no_grad():\n",
    "    for imgs, labels in val_loader:\n",
    "        outputs = model(imgs.view(imgs.shape[0], -1).to(device))\n",
    "        _, predicted = torch.max(outputs, dim=1)\n",
    "        labels = labels.to(device)\n",
    "        total += labels.shape[0]\n",
    "        correct += int((predicted == labels).sum())\n",
    "        \n",
    "print(\"Accuracy: %f\" % (correct / total))"
   ]
  },
  {
   "cell_type": "code",
   "execution_count": 45,
   "metadata": {},
   "outputs": [
    {
     "name": "stdout",
     "output_type": "stream",
     "text": [
      "Epoch: 0, Loss: 0.304551\n",
      "Epoch: 1, Loss: 0.624621\n",
      "Epoch: 2, Loss: 0.218915\n",
      "Epoch: 3, Loss: 0.393432\n",
      "Epoch: 4, Loss: 0.365717\n",
      "Epoch: 5, Loss: 0.256471\n",
      "Epoch: 6, Loss: 0.518236\n",
      "Epoch: 7, Loss: 0.544386\n",
      "Epoch: 8, Loss: 0.248678\n",
      "Epoch: 9, Loss: 0.348357\n",
      "Epoch: 10, Loss: 0.357375\n",
      "Epoch: 11, Loss: 0.342049\n",
      "Epoch: 12, Loss: 0.280576\n",
      "Epoch: 13, Loss: 0.522524\n",
      "Epoch: 14, Loss: 0.494793\n",
      "Epoch: 15, Loss: 0.357507\n",
      "Epoch: 16, Loss: 0.527270\n",
      "Epoch: 17, Loss: 0.774763\n",
      "Epoch: 18, Loss: 0.206350\n",
      "Epoch: 19, Loss: 0.396299\n",
      "Epoch: 20, Loss: 0.293799\n",
      "Epoch: 21, Loss: 0.233297\n",
      "Epoch: 22, Loss: 0.290985\n",
      "Epoch: 23, Loss: 0.268711\n",
      "Epoch: 24, Loss: 0.340262\n",
      "Epoch: 25, Loss: 0.273507\n",
      "Epoch: 26, Loss: 0.264111\n",
      "Epoch: 27, Loss: 0.285662\n",
      "Epoch: 28, Loss: 0.204051\n",
      "Epoch: 29, Loss: 0.177308\n",
      "Epoch: 30, Loss: 0.144793\n",
      "Epoch: 31, Loss: 0.094282\n",
      "Epoch: 32, Loss: 0.165821\n",
      "Epoch: 33, Loss: 0.136289\n",
      "Epoch: 34, Loss: 0.111931\n",
      "Epoch: 35, Loss: 0.070409\n",
      "Epoch: 36, Loss: 0.060739\n",
      "Epoch: 37, Loss: 0.161899\n",
      "Epoch: 38, Loss: 0.041960\n",
      "Epoch: 39, Loss: 0.222695\n",
      "Epoch: 40, Loss: 0.169895\n",
      "Epoch: 41, Loss: 0.264857\n",
      "Epoch: 42, Loss: 0.052622\n",
      "Epoch: 43, Loss: 0.228513\n",
      "Epoch: 44, Loss: 0.277979\n",
      "Epoch: 45, Loss: 0.080318\n",
      "Epoch: 46, Loss: 0.035052\n",
      "Epoch: 47, Loss: 0.063577\n",
      "Epoch: 48, Loss: 0.126355\n",
      "Epoch: 49, Loss: 0.013309\n",
      "Epoch: 50, Loss: 0.023036\n",
      "Epoch: 51, Loss: 0.156214\n",
      "Epoch: 52, Loss: 0.104808\n",
      "Epoch: 53, Loss: 0.082247\n",
      "Epoch: 54, Loss: 0.006819\n",
      "Epoch: 55, Loss: 0.244506\n",
      "Epoch: 56, Loss: 0.009142\n",
      "Epoch: 57, Loss: 0.029400\n",
      "Epoch: 58, Loss: 0.006662\n",
      "Epoch: 59, Loss: 0.017397\n",
      "Epoch: 60, Loss: 0.011368\n",
      "Epoch: 61, Loss: 0.006658\n",
      "Epoch: 62, Loss: 0.057957\n",
      "Epoch: 63, Loss: 0.016405\n",
      "Epoch: 64, Loss: 0.003269\n",
      "Epoch: 65, Loss: 0.005047\n",
      "Epoch: 66, Loss: 0.004609\n",
      "Epoch: 67, Loss: 0.003713\n",
      "Epoch: 68, Loss: 0.003734\n",
      "Epoch: 69, Loss: 0.071963\n",
      "Epoch: 70, Loss: 0.006130\n",
      "Epoch: 71, Loss: 0.007321\n",
      "Epoch: 72, Loss: 0.004358\n",
      "Epoch: 73, Loss: 0.013239\n",
      "Epoch: 74, Loss: 0.001064\n",
      "Epoch: 75, Loss: 0.000626\n",
      "Epoch: 76, Loss: 0.001169\n",
      "Epoch: 77, Loss: 0.000883\n",
      "Epoch: 78, Loss: 0.001942\n",
      "Epoch: 79, Loss: 0.002709\n",
      "Epoch: 80, Loss: 0.015782\n",
      "Epoch: 81, Loss: 0.003648\n",
      "Epoch: 82, Loss: 0.304163\n",
      "Epoch: 83, Loss: 0.000992\n",
      "Epoch: 84, Loss: 0.003172\n",
      "Epoch: 85, Loss: 0.000534\n",
      "Epoch: 86, Loss: 0.002500\n",
      "Epoch: 87, Loss: 0.001896\n",
      "Epoch: 88, Loss: 0.033590\n",
      "Epoch: 89, Loss: 0.017585\n",
      "Epoch: 90, Loss: 0.001574\n",
      "Epoch: 91, Loss: 0.004163\n",
      "Epoch: 92, Loss: 0.000359\n",
      "Epoch: 93, Loss: 0.004165\n",
      "Epoch: 94, Loss: 0.003613\n",
      "Epoch: 95, Loss: 0.001626\n",
      "Epoch: 96, Loss: 0.002169\n",
      "Epoch: 97, Loss: 0.000700\n",
      "Epoch: 98, Loss: 0.000735\n",
      "Epoch: 99, Loss: 0.000859\n"
     ]
    }
   ],
   "source": [
    "import torch\n",
    "import torch.nn as nn\n",
    "import torch.optim as optim\n",
    "\n",
    "train_loader = torch.utils.data.DataLoader(cifar2, batch_size=64,\n",
    "                                           shuffle=True)\n",
    "\n",
    "model = nn.Sequential(\n",
    "            nn.Linear(3072, 1024),\n",
    "            nn.Tanh(),\n",
    "            nn.Linear(1024, 512),\n",
    "            nn.Tanh(),\n",
    "            nn.Linear(512, 128),\n",
    "            nn.Tanh(),\n",
    "            nn.Linear(128, 2)).to(device)\n",
    "\n",
    "learning_rate = 1e-2\n",
    "\n",
    "optimizer = optim.SGD(model.parameters(), lr=learning_rate)\n",
    "\n",
    "loss_fn = nn.CrossEntropyLoss()\n",
    "\n",
    "n_epochs = 100\n",
    "\n",
    "for epoch in range(n_epochs):\n",
    "    for imgs, labels in train_loader:\n",
    "        outputs = model(imgs.view(imgs.shape[0], -1).to(device))\n",
    "        loss = loss_fn(outputs, labels.to(device))\n",
    "\n",
    "        optimizer.zero_grad()\n",
    "        loss.backward()\n",
    "        optimizer.step()\n",
    "\n",
    "    print(\"Epoch: %d, Loss: %f\" % (epoch, float(loss)))"
   ]
  },
  {
   "cell_type": "code",
   "execution_count": 46,
   "metadata": {},
   "outputs": [
    {
     "name": "stdout",
     "output_type": "stream",
     "text": [
      "Accuracy: 0.999800\n"
     ]
    }
   ],
   "source": [
    "train_loader = torch.utils.data.DataLoader(cifar2, batch_size=64,\n",
    "                                           shuffle=False)\n",
    "\n",
    "correct = 0\n",
    "total = 0\n",
    "\n",
    "with torch.no_grad():\n",
    "    for imgs, labels in train_loader:\n",
    "        outputs = model(imgs.view(imgs.shape[0], -1).to(device))\n",
    "        _, predicted = torch.max(outputs, dim=1)\n",
    "        labels = labels.to(device)\n",
    "        total += labels.shape[0]\n",
    "        correct += int((predicted == labels).sum())\n",
    "        \n",
    "print(\"Accuracy: %f\" % (correct / total))"
   ]
  },
  {
   "cell_type": "code",
   "execution_count": 47,
   "metadata": {},
   "outputs": [
    {
     "name": "stdout",
     "output_type": "stream",
     "text": [
      "Accuracy: 0.812000\n"
     ]
    }
   ],
   "source": [
    "val_loader = torch.utils.data.DataLoader(cifar2_val, batch_size=64,\n",
    "                                         shuffle=False)\n",
    "\n",
    "correct = 0\n",
    "total = 0\n",
    "\n",
    "with torch.no_grad():\n",
    "    for imgs, labels in val_loader:\n",
    "        outputs = model(imgs.view(imgs.shape[0], -1).to(device))\n",
    "        _, predicted = torch.max(outputs, dim=1)\n",
    "        labels = labels.to(device)\n",
    "        total += labels.shape[0]\n",
    "        correct += int((predicted == labels).sum())\n",
    "        \n",
    "print(\"Accuracy: %f\" % (correct / total))"
   ]
  },
  {
   "cell_type": "code",
   "execution_count": 48,
   "metadata": {},
   "outputs": [
    {
     "data": {
      "text/plain": [
       "3737474"
      ]
     },
     "execution_count": 48,
     "metadata": {},
     "output_type": "execute_result"
    }
   ],
   "source": [
    "sum([p.numel() for p in model.parameters()])"
   ]
  },
  {
   "cell_type": "code",
   "execution_count": 49,
   "metadata": {},
   "outputs": [
    {
     "data": {
      "text/plain": [
       "3737474"
      ]
     },
     "execution_count": 49,
     "metadata": {},
     "output_type": "execute_result"
    }
   ],
   "source": [
    "sum([p.numel() for p in model.parameters() if p.requires_grad == True])"
   ]
  },
  {
   "cell_type": "code",
   "execution_count": 50,
   "metadata": {},
   "outputs": [
    {
     "data": {
      "text/plain": [
       "1574402"
      ]
     },
     "execution_count": 50,
     "metadata": {},
     "output_type": "execute_result"
    }
   ],
   "source": [
    "first_model = nn.Sequential(\n",
    "                nn.Linear(3072, 512),\n",
    "                nn.Tanh(),\n",
    "                nn.Linear(512, 2),\n",
    "                nn.LogSoftmax(dim=1))\n",
    "\n",
    "sum([p.numel() for p in first_model.parameters()])"
   ]
  },
  {
   "cell_type": "code",
   "execution_count": 51,
   "metadata": {},
   "outputs": [
    {
     "data": {
      "text/plain": [
       "1573376"
      ]
     },
     "execution_count": 51,
     "metadata": {},
     "output_type": "execute_result"
    }
   ],
   "source": [
    "sum([p.numel() for p in nn.Linear(3072, 512).parameters()])"
   ]
  },
  {
   "cell_type": "code",
   "execution_count": 52,
   "metadata": {},
   "outputs": [
    {
     "data": {
      "text/plain": [
       "3146752"
      ]
     },
     "execution_count": 52,
     "metadata": {},
     "output_type": "execute_result"
    }
   ],
   "source": [
    "sum([p.numel() for p in nn.Linear(3072, 1024).parameters()])"
   ]
  },
  {
   "cell_type": "code",
   "execution_count": 53,
   "metadata": {},
   "outputs": [
    {
     "data": {
      "text/plain": [
       "(torch.Size([1024, 3072]), torch.Size([1024]))"
      ]
     },
     "execution_count": 53,
     "metadata": {},
     "output_type": "execute_result"
    }
   ],
   "source": [
    "linear = nn.Linear(3072, 1024)\n",
    "\n",
    "linear.weight.shape, linear.bias.shape"
   ]
  },
  {
   "cell_type": "code",
   "execution_count": 54,
   "metadata": {},
   "outputs": [],
   "source": [
    "conv = nn.Conv2d(3, 16, kernel_size=3)"
   ]
  },
  {
   "cell_type": "code",
   "execution_count": 55,
   "metadata": {},
   "outputs": [
    {
     "data": {
      "text/plain": [
       "torch.Size([16, 3, 3, 3])"
      ]
     },
     "execution_count": 55,
     "metadata": {},
     "output_type": "execute_result"
    }
   ],
   "source": [
    "conv.weight.shape"
   ]
  },
  {
   "cell_type": "code",
   "execution_count": 56,
   "metadata": {},
   "outputs": [
    {
     "data": {
      "text/plain": [
       "torch.Size([16])"
      ]
     },
     "execution_count": 56,
     "metadata": {},
     "output_type": "execute_result"
    }
   ],
   "source": [
    "conv.bias.shape"
   ]
  },
  {
   "cell_type": "code",
   "execution_count": 57,
   "metadata": {},
   "outputs": [],
   "source": [
    "img, _ = cifar2[0]\n",
    "\n",
    "output = conv(img.unsqueeze(0))"
   ]
  },
  {
   "cell_type": "code",
   "execution_count": 58,
   "metadata": {},
   "outputs": [
    {
     "data": {
      "text/plain": [
       "(torch.Size([1, 3, 32, 32]), torch.Size([1, 16, 30, 30]))"
      ]
     },
     "execution_count": 58,
     "metadata": {},
     "output_type": "execute_result"
    }
   ],
   "source": [
    "img.unsqueeze(0).shape, output.shape"
   ]
  },
  {
   "cell_type": "code",
   "execution_count": 59,
   "metadata": {},
   "outputs": [
    {
     "name": "stderr",
     "output_type": "stream",
     "text": [
      "Clipping input data to the valid range for imshow with RGB data ([0..1] for floats or [0..255] for integers).\n"
     ]
    },
    {
     "data": {
      "image/png": "[encoded data removed]",
      "text/plain": [
       "<Figure size 432x288 with 1 Axes>"
      ]
     },
     "metadata": {
      "needs_background": "light"
     },
     "output_type": "display_data"
    }
   ],
   "source": [
    "plt.imshow(img.permute(1, 2, 0), cmap='gray')\n",
    "plt.show()"
   ]
  },
  {
   "cell_type": "code",
   "execution_count": 60,
   "metadata": {},
   "outputs": [
    {
     "data": {
      "image/png": "[encoded data removed]",
      "text/plain": [
       "<Figure size 432x288 with 1 Axes>"
      ]
     },
     "metadata": {
      "needs_background": "light"
     },
     "output_type": "display_data"
    }
   ],
   "source": [
    "plt.imshow(output[0, 0].detach(), cmap='gray')\n",
    "plt.show()"
   ]
  },
  {
   "cell_type": "code",
   "execution_count": 61,
   "metadata": {},
   "outputs": [
    {
     "data": {
      "text/plain": [
       "torch.Size([1, 16, 30, 30])"
      ]
     },
     "execution_count": 61,
     "metadata": {},
     "output_type": "execute_result"
    }
   ],
   "source": [
    "output.shape"
   ]
  },
  {
   "cell_type": "code",
   "execution_count": 62,
   "metadata": {},
   "outputs": [],
   "source": [
    "conv = nn.Conv2d(3, 1, kernel_size=3, padding=1)"
   ]
  },
  {
   "cell_type": "code",
   "execution_count": 63,
   "metadata": {},
   "outputs": [
    {
     "data": {
      "text/plain": [
       "torch.Size([1, 1, 32, 32])"
      ]
     },
     "execution_count": 63,
     "metadata": {},
     "output_type": "execute_result"
    }
   ],
   "source": [
    "output = conv(img.unsqueeze(0))\n",
    "\n",
    "output.shape"
   ]
  },
  {
   "cell_type": "code",
   "execution_count": 65,
   "metadata": {},
   "outputs": [],
   "source": [
    "with torch.no_grad():\n",
    "    conv.bias.zero_()"
   ]
  },
  {
   "cell_type": "code",
   "execution_count": 66,
   "metadata": {},
   "outputs": [],
   "source": [
    "with torch.no_grad():\n",
    "    conv.weight.fill_(1.0 / 9.0)"
   ]
  },
  {
   "cell_type": "code",
   "execution_count": 67,
   "metadata": {},
   "outputs": [
    {
     "data": {
      "image/png": "[encoded data removed]",
      "text/plain": [
       "<Figure size 432x288 with 1 Axes>"
      ]
     },
     "metadata": {
      "needs_background": "light"
     },
     "output_type": "display_data"
    }
   ],
   "source": [
    "output = conv(img.unsqueeze(0))\n",
    "plt.imshow(output[0, 0].detach(), cmap='gray')\n",
    "plt.show()"
   ]
  },
  {
   "cell_type": "code",
   "execution_count": 68,
   "metadata": {},
   "outputs": [],
   "source": [
    "conv = nn.Conv2d(3, 1, kernel_size=3, padding=1)\n",
    "\n",
    "with torch.no_grad():\n",
    "    conv.weight[:] = torch.tensor([[-1.0, 0.0, 1.0],\n",
    "                                   [-1.0, 0.0, 1.0],\n",
    "                                   [-1.0, 0.0, 1.0]])\n",
    "    conv.bias.zero_()"
   ]
  },
  {
   "cell_type": "code",
   "execution_count": 69,
   "metadata": {},
   "outputs": [
    {
     "data": {
      "image/png": "[encoded data removed]",
      "text/plain": [
       "<Figure size 432x288 with 1 Axes>"
      ]
     },
     "metadata": {
      "needs_background": "light"
     },
     "output_type": "display_data"
    }
   ],
   "source": [
    "output = conv(img.unsqueeze(0))\n",
    "plt.imshow(output[0, 0].detach(), cmap='gray')\n",
    "plt.show()"
   ]
  },
  {
   "cell_type": "code",
   "execution_count": 70,
   "metadata": {},
   "outputs": [],
   "source": [
    "pool = nn.MaxPool2d(2)"
   ]
  },
  {
   "cell_type": "code",
   "execution_count": 71,
   "metadata": {},
   "outputs": [
    {
     "data": {
      "text/plain": [
       "torch.Size([1, 3, 16, 16])"
      ]
     },
     "execution_count": 71,
     "metadata": {},
     "output_type": "execute_result"
    }
   ],
   "source": [
    "output = pool(img.unsqueeze(0))\n",
    "\n",
    "output.shape"
   ]
  },
  {
   "cell_type": "code",
   "execution_count": 73,
   "metadata": {},
   "outputs": [],
   "source": [
    "model = nn.Sequential(\n",
    "            nn.Conv2d(3, 16, kernel_size=3, padding=1),\n",
    "            nn.Tanh(),\n",
    "            nn.MaxPool2d(2),\n",
    "            nn.Conv2d(16, 8, kernel_size=3, padding=1),\n",
    "            nn.Tanh(),\n",
    "            nn.MaxPool2d(2))"
   ]
  },
  {
   "cell_type": "code",
   "execution_count": 79,
   "metadata": {},
   "outputs": [],
   "source": [
    "model = nn.Sequential(\n",
    "            nn.Conv2d(3, 16, kernel_size=3, padding=1), # 16 x 32 x 32\n",
    "            nn.Tanh(),\n",
    "            nn.MaxPool2d(2), # 16 x 16 x 16\n",
    "            nn.Conv2d(16, 8, kernel_size=3, padding=1), # 8 x 16 x 16\n",
    "            nn.Tanh(),\n",
    "            nn.MaxPool2d(2), # 8 x 8 x 8\n",
    "            # torch.flatten(),\n",
    "            nn.Linear(512, 32),\n",
    "            nn.Tanh(),\n",
    "            nn.Linear(32, 2))"
   ]
  },
  {
   "cell_type": "code",
   "execution_count": 75,
   "metadata": {},
   "outputs": [
    {
     "data": {
      "text/plain": [
       "18090"
      ]
     },
     "execution_count": 75,
     "metadata": {},
     "output_type": "execute_result"
    }
   ],
   "source": [
    "sum([p.numel() for p in model.parameters()])"
   ]
  },
  {
   "cell_type": "code",
   "execution_count": 80,
   "metadata": {},
   "outputs": [],
   "source": [
    "#model(img.unsqueeze(0)) # since there no flatten, you can forward this model"
   ]
  },
  {
   "cell_type": "code",
   "execution_count": 82,
   "metadata": {},
   "outputs": [],
   "source": [
    "class Net(nn.Module):\n",
    "    def __init__(self):\n",
    "        super(Net, self).__init__()\n",
    "        self.conv1 = nn.Conv2d(3, 16, kernel_size=3, padding=1)\n",
    "        self.act1 = nn.Tanh()\n",
    "        self.pool1 = nn.MaxPool2d(2)\n",
    "        self.conv2 = nn.Conv2d(16, 8, kernel_size=3, padding=1)\n",
    "        self.act2 = nn.Tanh()\n",
    "        self.pool2 = nn.MaxPool2d(2)\n",
    "        self.fc1 = nn.Linear(8 * 8 * 8, 32)\n",
    "        self.act4 = nn.Tanh()\n",
    "        self.fc2 = nn.Linear(32, 2)\n",
    "\n",
    "    def forward(self, x):\n",
    "        out = self.pool1(self.act1(self.conv1(x)))\n",
    "        out = self.pool2(self.act2(self.conv2(out)))\n",
    "        out = out.view(-1, 8 * 8 * 8) # this work like flatten\n",
    "        out = self.act4(self.fc1(out))\n",
    "        out = self.fc2(out)\n",
    "        return out"
   ]
  },
  {
   "cell_type": "code",
   "execution_count": 83,
   "metadata": {},
   "outputs": [
    {
     "data": {
      "text/plain": [
       "18090"
      ]
     },
     "execution_count": 83,
     "metadata": {},
     "output_type": "execute_result"
    }
   ],
   "source": [
    "model = Net()\n",
    "\n",
    "sum([p.numel() for p in model.parameters()])"
   ]
  },
  {
   "cell_type": "code",
   "execution_count": 84,
   "metadata": {},
   "outputs": [],
   "source": [
    "import torch.nn.functional as F\n",
    "\n",
    "class Net(nn.Module):\n",
    "    def __init__(self):\n",
    "        super(Net, self).__init__()\n",
    "        self.conv1 = nn.Conv2d(3, 16, kernel_size=3, padding=1)\n",
    "        self.conv2 = nn.Conv2d(16, 8, kernel_size=3, padding=1)\n",
    "        self.fc1 = nn.Linear(8 * 8 * 8, 32)\n",
    "        self.fc2 = nn.Linear(32, 2)\n",
    "        \n",
    "    def forward(self, x):\n",
    "        out = F.max_pool2d(torch.tanh(self.conv1(x)), 2)\n",
    "        out = F.max_pool2d(torch.tanh(self.conv2(out)), 2)\n",
    "        out = out.view(-1, 8 * 8 * 8)\n",
    "        out = torch.tanh(self.fc1(out))\n",
    "        out = self.fc2(out)\n",
    "        return out"
   ]
  },
  {
   "cell_type": "code",
   "execution_count": 85,
   "metadata": {},
   "outputs": [
    {
     "data": {
      "text/plain": [
       "tensor([[ 0.2405, -0.0994]], grad_fn=<AddmmBackward0>)"
      ]
     },
     "execution_count": 85,
     "metadata": {},
     "output_type": "execute_result"
    }
   ],
   "source": [
    "model = Net()\n",
    "model(img.unsqueeze(0))"
   ]
  },
  {
   "cell_type": "code",
   "execution_count": 87,
   "metadata": {},
   "outputs": [
    {
     "name": "stdout",
     "output_type": "stream",
     "text": [
      "Epoch: 0, Loss: 0.546526\n",
      "Epoch: 1, Loss: 0.518879\n",
      "Epoch: 2, Loss: 0.437984\n",
      "Epoch: 3, Loss: 0.403006\n",
      "Epoch: 4, Loss: 0.214272\n",
      "Epoch: 5, Loss: 0.324698\n",
      "Epoch: 6, Loss: 0.424224\n",
      "Epoch: 7, Loss: 0.163004\n",
      "Epoch: 8, Loss: 0.527817\n",
      "Epoch: 9, Loss: 0.353811\n",
      "Epoch: 10, Loss: 0.201866\n",
      "Epoch: 11, Loss: 0.460753\n",
      "Epoch: 12, Loss: 0.506434\n",
      "Epoch: 13, Loss: 0.081211\n",
      "Epoch: 14, Loss: 0.378655\n",
      "Epoch: 15, Loss: 0.343203\n",
      "Epoch: 16, Loss: 0.347149\n",
      "Epoch: 17, Loss: 0.436019\n",
      "Epoch: 18, Loss: 0.148665\n",
      "Epoch: 19, Loss: 0.405027\n",
      "Epoch: 20, Loss: 0.250077\n",
      "Epoch: 21, Loss: 0.251469\n",
      "Epoch: 22, Loss: 0.272347\n",
      "Epoch: 23, Loss: 0.114908\n",
      "Epoch: 24, Loss: 0.174334\n",
      "Epoch: 25, Loss: 0.355608\n",
      "Epoch: 26, Loss: 0.416404\n",
      "Epoch: 27, Loss: 0.108453\n",
      "Epoch: 28, Loss: 0.264927\n",
      "Epoch: 29, Loss: 0.150396\n",
      "Epoch: 30, Loss: 0.188177\n",
      "Epoch: 31, Loss: 0.136211\n",
      "Epoch: 32, Loss: 0.177020\n",
      "Epoch: 33, Loss: 0.324992\n",
      "Epoch: 34, Loss: 0.280588\n",
      "Epoch: 35, Loss: 0.060705\n",
      "Epoch: 36, Loss: 0.317196\n",
      "Epoch: 37, Loss: 0.172130\n",
      "Epoch: 38, Loss: 0.061664\n",
      "Epoch: 39, Loss: 0.141123\n",
      "Epoch: 40, Loss: 0.259475\n",
      "Epoch: 41, Loss: 0.243458\n",
      "Epoch: 42, Loss: 0.086363\n",
      "Epoch: 43, Loss: 0.081643\n",
      "Epoch: 44, Loss: 0.061343\n",
      "Epoch: 45, Loss: 0.081441\n",
      "Epoch: 46, Loss: 0.388405\n",
      "Epoch: 47, Loss: 0.312819\n",
      "Epoch: 48, Loss: 0.036489\n",
      "Epoch: 49, Loss: 0.284771\n",
      "Epoch: 50, Loss: 0.165157\n",
      "Epoch: 51, Loss: 0.185654\n",
      "Epoch: 52, Loss: 0.368947\n",
      "Epoch: 53, Loss: 0.121689\n",
      "Epoch: 54, Loss: 0.054000\n",
      "Epoch: 55, Loss: 0.132365\n",
      "Epoch: 56, Loss: 0.163337\n",
      "Epoch: 57, Loss: 0.223012\n",
      "Epoch: 58, Loss: 0.136172\n",
      "Epoch: 59, Loss: 0.261311\n",
      "Epoch: 60, Loss: 0.247160\n",
      "Epoch: 61, Loss: 0.126661\n",
      "Epoch: 62, Loss: 0.079738\n",
      "Epoch: 63, Loss: 0.150899\n",
      "Epoch: 64, Loss: 0.118944\n",
      "Epoch: 65, Loss: 0.170098\n",
      "Epoch: 66, Loss: 0.019999\n",
      "Epoch: 67, Loss: 0.399902\n",
      "Epoch: 68, Loss: 0.077241\n",
      "Epoch: 69, Loss: 0.139547\n",
      "Epoch: 70, Loss: 0.198945\n",
      "Epoch: 71, Loss: 0.227809\n",
      "Epoch: 72, Loss: 0.213918\n",
      "Epoch: 73, Loss: 0.139166\n",
      "Epoch: 74, Loss: 0.265134\n",
      "Epoch: 75, Loss: 0.150220\n",
      "Epoch: 76, Loss: 0.365808\n",
      "Epoch: 77, Loss: 0.077374\n",
      "Epoch: 78, Loss: 0.059087\n",
      "Epoch: 79, Loss: 0.073815\n",
      "Epoch: 80, Loss: 0.019726\n",
      "Epoch: 81, Loss: 0.078126\n",
      "Epoch: 82, Loss: 0.071664\n",
      "Epoch: 83, Loss: 0.114647\n",
      "Epoch: 84, Loss: 0.056777\n",
      "Epoch: 85, Loss: 0.087456\n",
      "Epoch: 86, Loss: 0.022316\n",
      "Epoch: 87, Loss: 0.124101\n",
      "Epoch: 88, Loss: 0.046753\n",
      "Epoch: 89, Loss: 0.091312\n",
      "Epoch: 90, Loss: 0.059977\n",
      "Epoch: 91, Loss: 0.260211\n",
      "Epoch: 92, Loss: 0.118265\n",
      "Epoch: 93, Loss: 0.166371\n",
      "Epoch: 94, Loss: 0.254142\n",
      "Epoch: 95, Loss: 0.072883\n",
      "Epoch: 96, Loss: 0.041046\n",
      "Epoch: 97, Loss: 0.054794\n",
      "Epoch: 98, Loss: 0.082813\n",
      "Epoch: 99, Loss: 0.007835\n"
     ]
    }
   ],
   "source": [
    "import torch\n",
    "import torch.nn as nn\n",
    "import torch.nn.functional as F\n",
    "\n",
    "train_loader = torch.utils.data.DataLoader(cifar2, batch_size=64,\n",
    "                                           shuffle=True)\n",
    "\n",
    "class Net(nn.Module):\n",
    "    def __init__(self):\n",
    "        super(Net, self).__init__()\n",
    "        self.conv1 = nn.Conv2d(3, 16, kernel_size=3, padding=1)\n",
    "        self.conv2 = nn.Conv2d(16, 8, kernel_size=3, padding=1)\n",
    "        self.fc1 = nn.Linear(8 * 8 * 8, 32)\n",
    "        self.fc2 = nn.Linear(32, 2)\n",
    "        \n",
    "    def forward(self, x):\n",
    "        out = F.max_pool2d(torch.relu(self.conv1(x)), 2)\n",
    "        out = F.max_pool2d(torch.relu(self.conv2(out)), 2)\n",
    "        out = out.view(-1, 8 * 8 * 8)\n",
    "        out = torch.tanh(self.fc1(out))\n",
    "        out = self.fc2(out)\n",
    "        return out\n",
    "    \n",
    "model = Net().to(device)\n",
    "\n",
    "learning_rate = 1e-2\n",
    "\n",
    "optimizer = optim.SGD(model.parameters(), lr=learning_rate)\n",
    "\n",
    "loss_fn = nn.CrossEntropyLoss()\n",
    "\n",
    "n_epochs = 100\n",
    "\n",
    "for epoch in range(n_epochs):\n",
    "    for imgs, labels in train_loader:\n",
    "        outputs = model(imgs.to(device))\n",
    "        loss = loss_fn(outputs, labels.to(device))\n",
    "                \n",
    "        optimizer.zero_grad()\n",
    "        loss.backward()\n",
    "        optimizer.step()\n",
    "\n",
    "    print(\"Epoch: %d, Loss: %f\" % (epoch, float(loss)))"
   ]
  },
  {
   "cell_type": "code",
   "execution_count": 88,
   "metadata": {},
   "outputs": [
    {
     "name": "stdout",
     "output_type": "stream",
     "text": [
      "Accuracy: 0.950000\n"
     ]
    }
   ],
   "source": [
    "train_loader = torch.utils.data.DataLoader(cifar2, batch_size=64,\n",
    "                                           shuffle=False)\n",
    "\n",
    "correct = 0\n",
    "total = 0\n",
    "\n",
    "with torch.no_grad():\n",
    "    for imgs, labels in train_loader:\n",
    "        outputs = model(imgs.to(device))\n",
    "        _, predicted = torch.max(outputs, dim=1)\n",
    "        labels = labels.to(device)\n",
    "        total += labels.shape[0]\n",
    "        correct += int((predicted == labels).sum())\n",
    "        \n",
    "print(\"Accuracy: %f\" % (correct / total))"
   ]
  },
  {
   "cell_type": "code",
   "execution_count": 89,
   "metadata": {},
   "outputs": [
    {
     "name": "stdout",
     "output_type": "stream",
     "text": [
      "Accuracy: 0.892500\n"
     ]
    }
   ],
   "source": [
    "val_loader = torch.utils.data.DataLoader(cifar2_val, batch_size=64,\n",
    "                                         shuffle=False)\n",
    "\n",
    "correct = 0\n",
    "total = 0\n",
    "\n",
    "with torch.no_grad():\n",
    "    for imgs, labels in val_loader:\n",
    "        outputs = model(imgs.to(device))\n",
    "        _, predicted = torch.max(outputs, dim=1)\n",
    "        labels = labels.to(device)\n",
    "        total += labels.shape[0]\n",
    "        correct += int((predicted == labels).sum())\n",
    "        \n",
    "print(\"Accuracy: %f\" % (correct / total))"
   ]
  },
  {
   "cell_type": "code",
   "execution_count": 90,
   "metadata": {},
   "outputs": [
    {
     "data": {
      "text/plain": [
       "18090"
      ]
     },
     "execution_count": 90,
     "metadata": {},
     "output_type": "execute_result"
    }
   ],
   "source": [
    "import torch\n",
    "import torch.nn as nn\n",
    "import torch.nn.functional as F\n",
    "\n",
    "class Net(nn.Module):\n",
    "    def __init__(self):\n",
    "        super(Net, self).__init__()\n",
    "        self.conv1 = nn.Conv2d(3, 16, kernel_size=3, padding=1)\n",
    "        self.conv2 = nn.Conv2d(16, 8, kernel_size=3, padding=1)\n",
    "        self.fc1 = nn.Linear(8 * 8 * 8, 32)\n",
    "        self.fc2 = nn.Linear(32, 2)\n",
    "        \n",
    "    def forward(self, x):\n",
    "        out = F.max_pool2d(torch.relu(self.conv1(x)), 2)\n",
    "        out = F.max_pool2d(torch.relu(self.conv2(out)), 2)\n",
    "        out = out.view(-1, 8 * 8 * 8)\n",
    "        out = torch.tanh(self.fc1(out))\n",
    "        out = self.fc2(out)\n",
    "        return out\n",
    "    \n",
    "model = Net().to(device)\n",
    "sum([p.numel() for p in model.parameters()])"
   ]
  },
  {
   "cell_type": "code",
   "execution_count": 91,
   "metadata": {},
   "outputs": [
    {
     "ename": "RuntimeError",
     "evalue": "mat1 and mat2 shapes cannot be multiplied (64x8 and 512x32)",
     "output_type": "error",
     "traceback": [
      "\u001b[0;31m---------------------------------------------------------------------------\u001b[0m",
      "\u001b[0;31mRuntimeError\u001b[0m                              Traceback (most recent call last)",
      "\u001b[1;32m/home/hyunsu/Documents/GitHub/DL_with_pytorch/p1ch7/2_birds_airplanes.ipynb Cell 76\u001b[0m in \u001b[0;36m<cell line: 12>\u001b[0;34m()\u001b[0m\n\u001b[1;32m      <a href='vscode-notebook-cell://ssh-remote%2Bubuntu223/home/hyunsu/Documents/GitHub/DL_with_pytorch/p1ch7/2_birds_airplanes.ipynb#Y141sdnNjb2RlLXJlbW90ZQ%3D%3D?line=0'>1</a>\u001b[0m model \u001b[39m=\u001b[39m nn\u001b[39m.\u001b[39mSequential(\n\u001b[1;32m      <a href='vscode-notebook-cell://ssh-remote%2Bubuntu223/home/hyunsu/Documents/GitHub/DL_with_pytorch/p1ch7/2_birds_airplanes.ipynb#Y141sdnNjb2RlLXJlbW90ZQ%3D%3D?line=1'>2</a>\u001b[0m             nn\u001b[39m.\u001b[39mConv2d(\u001b[39m3\u001b[39m, \u001b[39m16\u001b[39m, kernel_size\u001b[39m=\u001b[39m\u001b[39m3\u001b[39m, padding\u001b[39m=\u001b[39m\u001b[39m1\u001b[39m),\n\u001b[1;32m      <a href='vscode-notebook-cell://ssh-remote%2Bubuntu223/home/hyunsu/Documents/GitHub/DL_with_pytorch/p1ch7/2_birds_airplanes.ipynb#Y141sdnNjb2RlLXJlbW90ZQ%3D%3D?line=2'>3</a>\u001b[0m             nn\u001b[39m.\u001b[39mTanh(),\n\u001b[0;32m   (...)\u001b[0m\n\u001b[1;32m      <a href='vscode-notebook-cell://ssh-remote%2Bubuntu223/home/hyunsu/Documents/GitHub/DL_with_pytorch/p1ch7/2_birds_airplanes.ipynb#Y141sdnNjb2RlLXJlbW90ZQ%3D%3D?line=8'>9</a>\u001b[0m             nn\u001b[39m.\u001b[39mTanh(),\n\u001b[1;32m     <a href='vscode-notebook-cell://ssh-remote%2Bubuntu223/home/hyunsu/Documents/GitHub/DL_with_pytorch/p1ch7/2_birds_airplanes.ipynb#Y141sdnNjb2RlLXJlbW90ZQ%3D%3D?line=9'>10</a>\u001b[0m             nn\u001b[39m.\u001b[39mLinear(\u001b[39m32\u001b[39m, \u001b[39m2\u001b[39m))\n\u001b[0;32m---> <a href='vscode-notebook-cell://ssh-remote%2Bubuntu223/home/hyunsu/Documents/GitHub/DL_with_pytorch/p1ch7/2_birds_airplanes.ipynb#Y141sdnNjb2RlLXJlbW90ZQ%3D%3D?line=11'>12</a>\u001b[0m model(img\u001b[39m.\u001b[39;49munsqueeze(\u001b[39m0\u001b[39;49m))\n",
      "File \u001b[0;32m~/anaconda3/envs/th1p12/lib/python3.8/site-packages/torch/nn/modules/module.py:1130\u001b[0m, in \u001b[0;36mModule._call_impl\u001b[0;34m(self, *input, **kwargs)\u001b[0m\n\u001b[1;32m   1126\u001b[0m \u001b[39m# If we don't have any hooks, we want to skip the rest of the logic in\u001b[39;00m\n\u001b[1;32m   1127\u001b[0m \u001b[39m# this function, and just call forward.\u001b[39;00m\n\u001b[1;32m   1128\u001b[0m \u001b[39mif\u001b[39;00m \u001b[39mnot\u001b[39;00m (\u001b[39mself\u001b[39m\u001b[39m.\u001b[39m_backward_hooks \u001b[39mor\u001b[39;00m \u001b[39mself\u001b[39m\u001b[39m.\u001b[39m_forward_hooks \u001b[39mor\u001b[39;00m \u001b[39mself\u001b[39m\u001b[39m.\u001b[39m_forward_pre_hooks \u001b[39mor\u001b[39;00m _global_backward_hooks\n\u001b[1;32m   1129\u001b[0m         \u001b[39mor\u001b[39;00m _global_forward_hooks \u001b[39mor\u001b[39;00m _global_forward_pre_hooks):\n\u001b[0;32m-> 1130\u001b[0m     \u001b[39mreturn\u001b[39;00m forward_call(\u001b[39m*\u001b[39;49m\u001b[39minput\u001b[39;49m, \u001b[39m*\u001b[39;49m\u001b[39m*\u001b[39;49mkwargs)\n\u001b[1;32m   1131\u001b[0m \u001b[39m# Do not call functions when jit is used\u001b[39;00m\n\u001b[1;32m   1132\u001b[0m full_backward_hooks, non_full_backward_hooks \u001b[39m=\u001b[39m [], []\n",
      "File \u001b[0;32m~/anaconda3/envs/th1p12/lib/python3.8/site-packages/torch/nn/modules/container.py:139\u001b[0m, in \u001b[0;36mSequential.forward\u001b[0;34m(self, input)\u001b[0m\n\u001b[1;32m    137\u001b[0m \u001b[39mdef\u001b[39;00m \u001b[39mforward\u001b[39m(\u001b[39mself\u001b[39m, \u001b[39minput\u001b[39m):\n\u001b[1;32m    138\u001b[0m     \u001b[39mfor\u001b[39;00m module \u001b[39min\u001b[39;00m \u001b[39mself\u001b[39m:\n\u001b[0;32m--> 139\u001b[0m         \u001b[39minput\u001b[39m \u001b[39m=\u001b[39m module(\u001b[39minput\u001b[39;49m)\n\u001b[1;32m    140\u001b[0m     \u001b[39mreturn\u001b[39;00m \u001b[39minput\u001b[39m\n",
      "File \u001b[0;32m~/anaconda3/envs/th1p12/lib/python3.8/site-packages/torch/nn/modules/module.py:1130\u001b[0m, in \u001b[0;36mModule._call_impl\u001b[0;34m(self, *input, **kwargs)\u001b[0m\n\u001b[1;32m   1126\u001b[0m \u001b[39m# If we don't have any hooks, we want to skip the rest of the logic in\u001b[39;00m\n\u001b[1;32m   1127\u001b[0m \u001b[39m# this function, and just call forward.\u001b[39;00m\n\u001b[1;32m   1128\u001b[0m \u001b[39mif\u001b[39;00m \u001b[39mnot\u001b[39;00m (\u001b[39mself\u001b[39m\u001b[39m.\u001b[39m_backward_hooks \u001b[39mor\u001b[39;00m \u001b[39mself\u001b[39m\u001b[39m.\u001b[39m_forward_hooks \u001b[39mor\u001b[39;00m \u001b[39mself\u001b[39m\u001b[39m.\u001b[39m_forward_pre_hooks \u001b[39mor\u001b[39;00m _global_backward_hooks\n\u001b[1;32m   1129\u001b[0m         \u001b[39mor\u001b[39;00m _global_forward_hooks \u001b[39mor\u001b[39;00m _global_forward_pre_hooks):\n\u001b[0;32m-> 1130\u001b[0m     \u001b[39mreturn\u001b[39;00m forward_call(\u001b[39m*\u001b[39;49m\u001b[39minput\u001b[39;49m, \u001b[39m*\u001b[39;49m\u001b[39m*\u001b[39;49mkwargs)\n\u001b[1;32m   1131\u001b[0m \u001b[39m# Do not call functions when jit is used\u001b[39;00m\n\u001b[1;32m   1132\u001b[0m full_backward_hooks, non_full_backward_hooks \u001b[39m=\u001b[39m [], []\n",
      "File \u001b[0;32m~/anaconda3/envs/th1p12/lib/python3.8/site-packages/torch/nn/modules/linear.py:114\u001b[0m, in \u001b[0;36mLinear.forward\u001b[0;34m(self, input)\u001b[0m\n\u001b[1;32m    113\u001b[0m \u001b[39mdef\u001b[39;00m \u001b[39mforward\u001b[39m(\u001b[39mself\u001b[39m, \u001b[39minput\u001b[39m: Tensor) \u001b[39m-\u001b[39m\u001b[39m>\u001b[39m Tensor:\n\u001b[0;32m--> 114\u001b[0m     \u001b[39mreturn\u001b[39;00m F\u001b[39m.\u001b[39;49mlinear(\u001b[39minput\u001b[39;49m, \u001b[39mself\u001b[39;49m\u001b[39m.\u001b[39;49mweight, \u001b[39mself\u001b[39;49m\u001b[39m.\u001b[39;49mbias)\n",
      "\u001b[0;31mRuntimeError\u001b[0m: mat1 and mat2 shapes cannot be multiplied (64x8 and 512x32)"
     ]
    }
   ],
   "source": [
    "model = nn.Sequential(\n",
    "            nn.Conv2d(3, 16, kernel_size=3, padding=1),\n",
    "            nn.Tanh(),\n",
    "            nn.MaxPool2d(2),\n",
    "            nn.Conv2d(16, 8, kernel_size=3, padding=1),\n",
    "            nn.Tanh(),\n",
    "            nn.MaxPool2d(2),\n",
    "            nn.Linear(8*8*8, 32), # no flatten, this code doesn't work\n",
    "            nn.Tanh(),\n",
    "            nn.Linear(32, 2))\n",
    "\n",
    "model(img.unsqueeze(0))"
   ]
  }
 ],
 "metadata": {
  "kernelspec": {
   "display_name": "Python 3.8.13 ('th1p12')",
   "language": "python",
   "name": "python3"
  },
  "language_info": {
   "codemirror_mode": {
    "name": "ipython",
    "version": 3
   },
   "file_extension": ".py",
   "mimetype": "text/x-python",
   "name": "python",
   "nbconvert_exporter": "python",
   "pygments_lexer": "ipython3",
   "version": "3.8.13"
  },
  "vscode": {
   "interpreter": {
    "hash": "540ee3e445d1da392d2b8a7d647dcbc2bd268a0d669d2281aeea3f4a5da62e9a"
   }
  }
 },
 "nbformat": 4,
 "nbformat_minor": 2
}
